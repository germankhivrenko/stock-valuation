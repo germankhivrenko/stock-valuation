{
 "cells": [
  {
   "cell_type": "code",
   "execution_count": 1,
   "id": "51d53e95-2fe7-4b12-bb4d-8bde965959c2",
   "metadata": {
    "tags": []
   },
   "outputs": [],
   "source": [
    "import requests\n",
    "import json\n",
    "from stock_valuation.income_statement import IncomeStatement\n",
    "from stock_valuation.balance_sheet import BalanceSheet\n",
    "from stock_valuation.cash_flow_statement import CashFlowStatement\n",
    "\n",
    "\n",
    "ALPHA_VANTAGE_API_KEY = \"WGD32KDX07IA26F3\"\n",
    "stock_symbol = \"UBER\"\n",
    "\n",
    "# replace the \"demo\" apikey below with your own key from https://www.alphavantage.co/support/#api-key\n",
    "\n",
    "is_resp = requests.get(f\"https://www.alphavantage.co/query?function=INCOME_STATEMENT&symbol={stock_symbol}&apikey={ALPHA_VANTAGE_API_KEY}\").json()\n",
    "bs_resp = requests.get(f\"https://www.alphavantage.co/query?function=BALANCE_SHEET&symbol={stock_symbol}&apikey={ALPHA_VANTAGE_API_KEY}\").json()\n",
    "# cf_resp = requests.get(f\"https://www.alphavantage.co/query?function=CASH_FLOW&symbol={stock_symbol}&apikey={ALPHA_VANTAGE_API_KEY}\").json()"
   ]
  },
  {
   "cell_type": "code",
   "execution_count": 2,
   "id": "80015b5f-c5bf-4364-b7c7-ac9d1ffbc2e7",
   "metadata": {
    "tags": []
   },
   "outputs": [],
   "source": [
    "income_statements = [IncomeStatement.from_alpha_vantage(data) for data in is_resp[\"annualReports\"]][::-1]\n",
    "balance_sheets = [BalanceSheet.from_alpha_vantage(data) for data in bs_resp[\"annualReports\"]][::-1][-5:]"
   ]
  },
  {
   "cell_type": "code",
   "execution_count": 3,
   "id": "9cca581e-3fea-4280-aac0-ad69de1ffed8",
   "metadata": {
    "tags": []
   },
   "outputs": [
    {
     "data": {
      "text/plain": [
       "[IncomeStatement(revenue=13000000000, cost_of_revenue=15299000000, operating_expenses=13029000000, selling_general_and_administrative=7925000000, research_and_development=4836000000, deprecation_and_amortization=166000000, interest_expense=115000000, provision_for_taxes=45000000, consolidated_net_income=-8512000000, net_income=-8506000000),\n",
       " IncomeStatement(revenue=11139000000, cost_of_revenue=12523000000, operating_expenses=9650000000, selling_general_and_administrative=6249000000, research_and_development=2205000000, deprecation_and_amortization=354000000, interest_expense=458000000, provision_for_taxes=-192000000, consolidated_net_income=-6788000000, net_income=-6768000000),\n",
       " IncomeStatement(revenue=17455000000, cost_of_revenue=17228000000, operating_expenses=10040000000, selling_general_and_administrative=7105000000, research_and_development=2054000000, deprecation_and_amortization=656000000, interest_expense=483000000, provision_for_taxes=-492000000, consolidated_net_income=-570000000, net_income=-496000000),\n",
       " IncomeStatement(revenue=31877000000, cost_of_revenue=28470000000, operating_expenses=11723000000, selling_general_and_administrative=7892000000, research_and_development=2798000000, deprecation_and_amortization=709000000, interest_expense=565000000, provision_for_taxes=-181000000, consolidated_net_income=-9138000000, net_income=-9141000000),\n",
       " IncomeStatement(revenue=37281000000, cost_of_revenue=30045000000, operating_expenses=10844000000, selling_general_and_administrative=7038000000, research_and_development=3164000000, deprecation_and_amortization=550000000, interest_expense=633000000, provision_for_taxes=213000000, consolidated_net_income=2156000000, net_income=1887000000)]"
      ]
     },
     "execution_count": 3,
     "metadata": {},
     "output_type": "execute_result"
    }
   ],
   "source": [
    "income_statements"
   ]
  },
  {
   "cell_type": "code",
   "execution_count": 4,
   "id": "6896affd-d5d6-4acd-bced-7fee95157700",
   "metadata": {},
   "outputs": [
    {
     "data": {
      "text/plain": [
       "[BalanceSheet(inventory=99000000, accounts_receivables=1642000000, other_current_assets=300000000, total_current_assets=13925000000, property_plant_and_equipment=1731000000, goodwill=167000000, total_assets=31761000000, short_term_debt=196000000, accounts_payable=272000000, other_current_liabilities=298000000, total_current_liabilities=5639000000, long_term_debt=5791000000, total_liabilities=16578000000, total_shareholder_equity=14190000000),\n",
       " BalanceSheet(inventory=767000000, accounts_receivables=1537000000, other_current_assets=344000000, total_current_assets=9882000000, property_plant_and_equipment=1814000000, goodwill=6109000000, total_assets=33252000000, short_term_debt=352000000, accounts_payable=235000000, other_current_liabilities=1796000000, total_current_liabilities=6865000000, long_term_debt=7914000000, total_liabilities=19498000000, total_shareholder_equity=12266000000),\n",
       " BalanceSheet(inventory=1643000000, accounts_receivables=2992000000, other_current_assets=442000000, total_current_assets=8819000000, property_plant_and_equipment=1853000000, goodwill=8420000000, total_assets=38774000000, short_term_debt=185000000, accounts_payable=860000000, other_current_liabilities=2107000000, total_current_liabilities=9024000000, long_term_debt=9388000000, total_liabilities=23425000000, total_shareholder_equity=14458000000),\n",
       " BalanceSheet(inventory=680000000, accounts_receivables=3489000000, other_current_assets=459000000, total_current_assets=9249000000, property_plant_and_equipment=2082000000, goodwill=8263000000, total_assets=32109000000, short_term_debt=495000000, accounts_payable=728000000, other_current_liabilities=1851000000, total_current_liabilities=8853000000, long_term_debt=9361000000, total_liabilities=23605000000, total_shareholder_equity=7340000000),\n",
       " BalanceSheet(inventory=0, accounts_receivables=4121000000, other_current_assets=564000000, total_current_assets=11297000000, property_plant_and_equipment=2073000000, goodwill=8151000000, total_assets=38699000000, short_term_debt=499000000, accounts_payable=790000000, other_current_liabilities=1835000000, total_current_liabilities=9454000000, long_term_debt=9560000000, total_liabilities=26017000000, total_shareholder_equity=11249000000)]"
      ]
     },
     "execution_count": 4,
     "metadata": {},
     "output_type": "execute_result"
    }
   ],
   "source": [
    "balance_sheets"
   ]
  },
  {
   "cell_type": "code",
   "execution_count": 5,
   "id": "1c52b614-8853-4d1b-8d46-cb3648db806e",
   "metadata": {
    "tags": []
   },
   "outputs": [],
   "source": [
    "is_ratios_list = []\n",
    "\n",
    "for i in range(1, len(income_statements)):\n",
    "    prev_is, prev_bs = income_statements[i - 1], balance_sheets[i - 1]\n",
    "    is_ratios_list.append(income_statements[i].get_ratios(prev_is, prev_bs))"
   ]
  },
  {
   "cell_type": "code",
   "execution_count": 6,
   "id": "81b90c9d-38fc-4a7b-a562-bfd3e97f99c0",
   "metadata": {
    "tags": []
   },
   "outputs": [
    {
     "data": {
      "text/plain": [
       "[IncomeStatementRatios(revenue_growth=-0.1431538461538462, gross_margin=1.124248137175689, operating_margin=0.866325522937427, sga_to_revenue=0.5610018852679773, research_and_development_to_revenue=0.19795313762456235, deprecation_and_amortization_to_ppe=0.2045060658578856, interest_expense_to_total_debt=0.07649908134290964, taxes_to_pretax_profit=0.027507163323782235, minority_interest_to_consolidated_net_income=0.0029463759575721863),\n",
       " IncomeStatementRatios(revenue_growth=0.5670167878624652, gross_margin=0.9869951303351475, operating_margin=0.5751933543397307, sga_to_revenue=0.4070466914924091, research_and_development_to_revenue=0.11767401890575767, deprecation_and_amortization_to_ppe=0.36163175303197354, interest_expense_to_total_debt=0.05843213162351803, taxes_to_pretax_profit=0.4632768361581921, minority_interest_to_consolidated_net_income=0.12982456140350876),\n",
       " IncomeStatementRatios(revenue_growth=0.8262389000286452, gross_margin=0.89312043165919, operating_margin=0.36775731718794114, sga_to_revenue=0.24757662264328512, research_and_development_to_revenue=0.08777488471311604, deprecation_and_amortization_to_ppe=0.3826227738801943, interest_expense_to_total_debt=0.05902016086911104, taxes_to_pretax_profit=0.01942268483742891, minority_interest_to_consolidated_net_income=-0.00032829940906106366),\n",
       " IncomeStatementRatios(revenue_growth=0.16952661793769797, gross_margin=0.8059064939245192, operating_margin=0.29087202596496875, sga_to_revenue=0.18878248974008208, research_and_development_to_revenue=0.08486896810707867, deprecation_and_amortization_to_ppe=0.2641690682036503, interest_expense_to_total_debt=0.06422483766233766, taxes_to_pretax_profit=0.0899113550021106, minority_interest_to_consolidated_net_income=0.12476808905380334)]"
      ]
     },
     "execution_count": 6,
     "metadata": {},
     "output_type": "execute_result"
    }
   ],
   "source": [
    "is_ratios_list"
   ]
  },
  {
   "cell_type": "code",
   "execution_count": 7,
   "id": "c0d97149-badc-46ae-81b5-bad98e786e0f",
   "metadata": {
    "tags": []
   },
   "outputs": [],
   "source": [
    "bs_ratios_list = []\n",
    "\n",
    "for i in range(1, len(balance_sheets)):\n",
    "    bs_ratios_list.append(balance_sheets[i].get_ratios(income_statements[i]))"
   ]
  },
  {
   "cell_type": "code",
   "execution_count": 8,
   "id": "5bf70282-0848-4b4c-849e-2358de3462dc",
   "metadata": {
    "tags": []
   },
   "outputs": [
    {
     "data": {
      "text/plain": [
       "[BalanceSheetRatios(accounts_receivables_to_revenue=0.13798366101086273, inventory_to_revenue=0.06885716850704732, ppe_to_revenue=0.1628512433791184, accounts_payables_to_cost_of_revenue=0.02109704641350211),\n",
       " BalanceSheetRatios(accounts_receivables_to_revenue=0.17141220280721856, inventory_to_revenue=0.09412775708965912, ppe_to_revenue=0.10615869378401604, accounts_payables_to_cost_of_revenue=0.04926955027212833),\n",
       " BalanceSheetRatios(accounts_receivables_to_revenue=0.10945195595570474, inventory_to_revenue=0.02133199485522477, ppe_to_revenue=0.06531354895379113, accounts_payables_to_cost_of_revenue=0.022837782727358282),\n",
       " BalanceSheetRatios(accounts_receivables_to_revenue=0.1105388803948392, inventory_to_revenue=0.0, ppe_to_revenue=0.055604731632735174, accounts_payables_to_cost_of_revenue=0.021190418711944423)]"
      ]
     },
     "execution_count": 8,
     "metadata": {},
     "output_type": "execute_result"
    }
   ],
   "source": [
    "bs_ratios_list"
   ]
  },
  {
   "cell_type": "markdown",
   "id": "812e75e8-236b-4870-82a8-16762b56adbb",
   "metadata": {},
   "source": [
    "## Build forecast for IS/BS ratios"
   ]
  },
  {
   "cell_type": "code",
   "execution_count": 9,
   "id": "6126053a-f99f-4351-a0a1-5445d008fb90",
   "metadata": {
    "tags": []
   },
   "outputs": [],
   "source": [
    "from dataclasses import fields\n",
    "from stock_valuation.income_statement_ratios import IncomeStatementRatios\n",
    "from stock_valuation.balance_sheet_ratios import BalanceSheetRatios\n",
    "\n",
    "\n",
    "def forecast_income_statement_ratios(is_ratios_list, extrapolation_funcs):\n",
    "    forecasted_fields = {}\n",
    "    for f in fields(IncomeStatementRatios):\n",
    "        extrapolation_func = extrapolation_funcs[f.name]\n",
    "        field_values = [getattr(is_ratios, f.name) for is_ratios in is_ratios_list]\n",
    "        forecasted_fields[f.name] = extrapolation_func(field_values)\n",
    "    \n",
    "    return IncomeStatementRatios(**forecasted_fields)\n",
    "\n",
    "def forecast_balance_sheet_ratios(bs_ratios_list, extrapolation_funcs):\n",
    "    forecasted_fields = {}\n",
    "    for f in fields(BalanceSheetRatios):\n",
    "        extrapolation_func = extrapolation_funcs[f.name]\n",
    "        field_values = [getattr(bs_ratios, f.name) for bs_ratios in bs_ratios_list]\n",
    "        forecasted_fields[f.name] = extrapolation_func(field_values)\n",
    "    \n",
    "    return BalanceSheetRatios(**forecasted_fields)\n",
    "        \n",
    "def last_value(values):\n",
    "    return values[-1]"
   ]
  },
  {
   "cell_type": "code",
   "execution_count": 12,
   "id": "fa7ecf58-fad3-4cac-9d39-ab8258a53e10",
   "metadata": {
    "tags": []
   },
   "outputs": [],
   "source": [
    "is_extrpl_funcs = {\n",
    "    \"revenue_growth\": last_value,\n",
    "    \"gross_margin\": last_value,\n",
    "    \"operating_margin\": last_value,\n",
    "    \"sga_to_revenue\": last_value,\n",
    "    \"research_and_development_to_revenue\": last_value,\n",
    "    \"deprecation_and_amortization_to_ppe\": last_value,\n",
    "    \"interest_expense_to_total_debt\": last_value,\n",
    "    \"taxes_to_pretax_profit\": last_value,\n",
    "    \"minority_interest_to_consolidated_net_income\": last_value,\n",
    "}\n",
    "bs_extrpl_funcs = {\n",
    "    \"accounts_receivables_to_revenue\": last_value,\n",
    "    \"inventory_to_revenue\": last_value,\n",
    "    \"ppe_to_revenue\": last_value,\n",
    "    \"accounts_payables_to_cost_of_revenue\": last_value,\n",
    "}\n",
    "\n",
    "forecasted_is_ratios = forecast_income_statement_ratios(is_ratios_list, is_extrpl_funcs)\n",
    "forecasted_bs_ratios = forecast_balance_sheet_ratios(bs_ratios_list, bs_extrpl_funcs)"
   ]
  },
  {
   "cell_type": "code",
   "execution_count": 13,
   "id": "f0a0f4fa-b14b-4f66-b3fe-00bb388cf562",
   "metadata": {
    "tags": []
   },
   "outputs": [
    {
     "data": {
      "text/plain": [
       "IncomeStatementRatios(revenue_growth=0.16952661793769797, gross_margin=0.8059064939245192, operating_margin=0.29087202596496875, sga_to_revenue=0.18878248974008208, research_and_development_to_revenue=0.08486896810707867, deprecation_and_amortization_to_ppe=0.2641690682036503, interest_expense_to_total_debt=0.06422483766233766, taxes_to_pretax_profit=0.0899113550021106, minority_interest_to_consolidated_net_income=0.12476808905380334)"
      ]
     },
     "execution_count": 13,
     "metadata": {},
     "output_type": "execute_result"
    }
   ],
   "source": [
    "forecasted_is_ratios"
   ]
  },
  {
   "cell_type": "code",
   "execution_count": 14,
   "id": "0d34be92-e8f6-4b92-9b35-cf8d040deba0",
   "metadata": {
    "tags": []
   },
   "outputs": [
    {
     "data": {
      "text/plain": [
       "BalanceSheetRatios(accounts_receivables_to_revenue=0.1105388803948392, inventory_to_revenue=0.0, ppe_to_revenue=0.055604731632735174, accounts_payables_to_cost_of_revenue=0.021190418711944423)"
      ]
     },
     "execution_count": 14,
     "metadata": {},
     "output_type": "execute_result"
    }
   ],
   "source": [
    "forecasted_bs_ratios"
   ]
  },
  {
   "cell_type": "markdown",
   "id": "0f1f7ec4-ff26-4b78-b8fe-225e7e91e14f",
   "metadata": {},
   "source": [
    "## Forecast Income Statement / Balance Sheet from Ratios"
   ]
  },
  {
   "cell_type": "code",
   "execution_count": 18,
   "id": "f55dc197-2ecd-44c7-b206-8365cfbe1136",
   "metadata": {
    "tags": []
   },
   "outputs": [],
   "source": [
    "def forecast_is_from_ratios(prev_is: IncomeStatement, prev_bs: BalanceSheet, is_ratios: IncomeStatementRatios):\n",
    "    revenue = prev_is.revenue * (1 + is_ratios.revenue_growth)\n",
    "    operating_expenses = revenue * (1 - is_ratios.operating_margin)\n",
    "    operating_income = revenue - operating_expenses  # EBIT\n",
    "    interest_expense = prev_bs.total_debt * is_ratios.interest_expense_to_total_debt\n",
    "    pretax_profit = operating_income - interest_expense\n",
    "    provision_for_taxes = pretax_profit * is_ratios.taxes_to_pretax_profit\n",
    "    consolidated_income = pretax_profit - provision_for_taxes\n",
    "    \n",
    "    return IncomeStatement(\n",
    "            revenue=revenue,\n",
    "            cost_of_revenue=revenue * (1 - is_ratios.gross_margin),\n",
    "            operating_expenses=operating_expenses,\n",
    "            selling_general_and_administrative=revenue * is_ratios.sga_to_revenue,\n",
    "            research_and_development=revenue * is_ratios.research_and_development_to_revenue,\n",
    "        \n",
    "            deprecation_and_amortization=prev_bs.property_plant_and_equipment * is_ratios.deprecation_and_amortization_to_ppe,\n",
    "            interest_expense=interest_expense,\n",
    "            provision_for_taxes=provision_for_taxes,\n",
    "            consolidated_net_income=consolidated_income,\n",
    "            net_income=consolidated_income * (1 - is_ratios.minority_interest_to_consolidated_net_income),\n",
    "    )"
   ]
  },
  {
   "cell_type": "code",
   "execution_count": 19,
   "id": "fbd6c4b8-2898-4ae1-bb9f-577b25c95b4e",
   "metadata": {
    "tags": []
   },
   "outputs": [
    {
     "data": {
      "text/plain": [
       "IncomeStatement(revenue=43601121843.33532, cost_of_revenue=8462694607.397183, operating_expenses=30918775198.418922, selling_general_and_administrative=8231128337.045519, research_and_development=3700382219.154876, deprecation_and_amortization=547622478.3861672, interest_expense=646037642.0454545, provision_for_taxes=1082200851.6722293, consolidated_net_income=10954108151.198713, net_income=9587385009.88496)"
      ]
     },
     "execution_count": 19,
     "metadata": {},
     "output_type": "execute_result"
    }
   ],
   "source": [
    "forecasted_is = forecast_is_from_ratios(income_statements[-1], balance_sheets[-1], forecasted_is_ratios)\n",
    "forecasted_is"
   ]
  },
  {
   "cell_type": "code",
   "execution_count": null,
   "id": "2bf0b9c8-b461-468e-bb20-b6d860078497",
   "metadata": {},
   "outputs": [],
   "source": [
    "def forecast_bs_from_ratios(curr_is: IncomeStatement, prev_bs: BalanceSheet, bs_ratios: BalanceSheetRatios):\n",
    "    return BalanceSheet(\n",
    "            # cash= TODO: after cash flow st only\n",
    "            inventory=curr_is.revenue * bs_ratios.inventory_to_revenue,\n",
    "            accounts_receivables=curr_is.revenue * bs_ratios.accounts_receivables_to_revenue,\n",
    "            # short_term_investments=prev_bs.short_term_investments,\n",
    "            other_current_assets=prev_bs.other_current_assets,\n",
    "#             total_current_assets: int after cash\n",
    "\n",
    "#             # long-term assets\n",
    "            property_plant_and_equipment=curr_is.revenue * bs_ratios.ppe_to_revenue,\n",
    "            goodwill=prev_bs.goodwill,\n",
    "            other_long_term_assets=prev_bs.other_long_term_assets,\n",
    "\n",
    "            # total_assets: int\n",
    "\n",
    "#             # current (short-term) liabilites\n",
    "            short_term_debt=curr_is.revenue * bs_ratios.short_term_debt_to_revenue,\n",
    "            accounts_payable=curr_is.cost_of_revenue * bs_ratios.accounts_payable_to_cost_of_revenue\n",
    "            other_current_liabilities=prev_bs.other_current_liabilities\n",
    "#             total_current_liabilities: int\n",
    "\n",
    "#             # long-term liabilites\n",
    "#             long_term_debt: int\n",
    "\n",
    "#             total_liabilities: int\n",
    "\n",
    "#             # equity\n",
    "#             total_shareholder_equity: int\n",
    "    )"
   ]
  }
 ],
 "metadata": {
  "kernelspec": {
   "display_name": "Python (stock-move)",
   "language": "python",
   "name": "stock-move"
  },
  "language_info": {
   "codemirror_mode": {
    "name": "ipython",
    "version": 3
   },
   "file_extension": ".py",
   "mimetype": "text/x-python",
   "name": "python",
   "nbconvert_exporter": "python",
   "pygments_lexer": "ipython3",
   "version": "3.13.2"
  }
 },
 "nbformat": 4,
 "nbformat_minor": 5
}
