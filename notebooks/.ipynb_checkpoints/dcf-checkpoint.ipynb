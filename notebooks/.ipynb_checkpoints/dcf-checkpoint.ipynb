{
 "cells": [
  {
   "cell_type": "markdown",
   "id": "edbd72a8-9134-4147-b08a-4c86c19de5b4",
   "metadata": {},
   "source": [
    "# DCF\n",
    "#### Alpha Vantage"
   ]
  },
  {
   "cell_type": "code",
   "execution_count": 1,
   "id": "d742571e-9e9a-49d4-b2d5-663c5815c8f8",
   "metadata": {
    "tags": []
   },
   "outputs": [],
   "source": [
    "import requests\n",
    "import json\n",
    "\n",
    "\n",
    "AV_API_KEY = \"WGD32KDX07IA26F3\"\n",
    "TICKER = \"UBER\""
   ]
  },
  {
   "cell_type": "code",
   "execution_count": 2,
   "id": "424922c4-5cac-4406-ab67-53810f9af976",
   "metadata": {
    "tags": []
   },
   "outputs": [],
   "source": [
    "# income_statements_resp = requests.get(f\"https://www.alphavantage.co/query?function=INCOME_STATEMENT&symbol={TICKER}&apikey={AV_API_KEY}\").json()\n",
    "# balance_sheets_resp = requests.get(f\"https://www.alphavantage.co/query?function=BALANCE_SHEET&symbol={TICKER}&apikey={AV_API_KEY}\").json()"
   ]
  },
  {
   "cell_type": "code",
   "execution_count": 3,
   "id": "3578cabb-9cee-4751-97db-5d72a120a0c2",
   "metadata": {
    "tags": []
   },
   "outputs": [
    {
     "data": {
      "text/plain": [
       "{'fiscalDateEnding': '2023-12-31',\n",
       " 'reportedCurrency': 'USD',\n",
       " 'grossProfit': '7236000000',\n",
       " 'totalRevenue': '37281000000',\n",
       " 'costOfRevenue': '30045000000',\n",
       " 'costofGoodsAndServicesSold': '22457000000',\n",
       " 'operatingIncome': '1110000000',\n",
       " 'sellingGeneralAndAdministrative': '7038000000',\n",
       " 'researchAndDevelopment': '3164000000',\n",
       " 'operatingExpenses': '10844000000',\n",
       " 'investmentIncomeNet': '484000000',\n",
       " 'netInterestIncome': '-633000000',\n",
       " 'interestIncome': '484000000',\n",
       " 'interestExpense': '633000000',\n",
       " 'nonInterestIncome': '-182000000',\n",
       " 'otherNonOperatingIncome': '-198000000',\n",
       " 'depreciation': '355000000',\n",
       " 'depreciationAndAmortization': '550000000',\n",
       " 'incomeBeforeTax': '2100000000',\n",
       " 'incomeTaxExpense': '213000000',\n",
       " 'interestAndDebtExpense': '633000000',\n",
       " 'netIncomeFromContinuingOperations': '2156000000',\n",
       " 'comprehensiveIncomeNetOfTax': '1909000000',\n",
       " 'ebit': '2733000000',\n",
       " 'ebitda': '3283000000',\n",
       " 'netIncome': '1887000000'}"
      ]
     },
     "execution_count": 3,
     "metadata": {},
     "output_type": "execute_result"
    }
   ],
   "source": [
    "# income_statements_resp[\"annualReports\"][0]"
   ]
  },
  {
   "cell_type": "markdown",
   "id": "da185c21-dc0e-4670-82b0-ff5549e348e3",
   "metadata": {},
   "source": [
    "#### Yahoo Finance"
   ]
  },
  {
   "cell_type": "code",
   "execution_count": 8,
   "id": "f94282c8-deb5-44de-871b-6e6ebc017a1d",
   "metadata": {
    "tags": []
   },
   "outputs": [
    {
     "name": "stdout",
     "output_type": "stream",
     "text": [
      "Empty DataFrame\n",
      "Columns: []\n",
      "Index: []\n",
      "[]\n"
     ]
    }
   ],
   "source": [
    "import yfinance as yf\n",
    "\n",
    "ticker = yf.Ticker(\"UBER\")\n",
    "\n",
    "# Get annual financial statements\n",
    "print(ticker.financials[\"2023-12-31\"])  # Income statement\n",
    "# print(ticker.balance_sheet)\n",
    "# print(ticker.cashflow)\n",
    "\n",
    "yf_income_statements = []\n",
    "for date in ticker.financials:\n",
    "    yf_income_statements.append(ticker.financials[date])\n",
    "print(ticker.financials)\n",
    "\n",
    "yf_cash_flows = []\n",
    "for date in ticker.financials:\n",
    "    yf_cash_flows.append(ticker.cashflow[date])\n",
    "print(yf_cash_flows)"
   ]
  },
  {
   "cell_type": "markdown",
   "id": "6d2374e6-4a6f-4040-83c5-7d56bfe2fc02",
   "metadata": {},
   "source": [
    "### Forecast FCF\n",
    "#### Revenue, Cost of Revenue, Operating Expenses"
   ]
  },
  {
   "cell_type": "code",
   "execution_count": null,
   "id": "0e59c243-37c1-42ab-9af6-b13e21a87c82",
   "metadata": {
    "tags": []
   },
   "outputs": [],
   "source": [
    "revenues = [int(st[\"Total Revenue\"]) for st in yf_income_statements][::-1]\n",
    "revenue_growth_rates = []\n",
    "\n",
    "\n",
    "# REVENUE\n",
    "print(\"Revenue growth rate:\")\n",
    "for i in range(1, len(revenues)):\n",
    "    growth_rate = revenues[i] / revenues[i - 1] - 1\n",
    "    revenue_growth_rates.append(growth_rate)\n",
    "    print(f\"\\t{growth_rate * 100:.2f} %\")\n",
    "\n",
    "# Choose the last one to forecast next\n",
    "forecasted_revenues = [revenues[-1] * (1 + revenue_growth_rates[-1])]\n",
    "for _ in range(2):\n",
    "    forecasted_revenues.append(forecasted_revenues[-1] * (1 + revenue_growth_rates[-1]))\n",
    "print(f\"Forcasted revenues: {forecasted_revenues}\")\n",
    "\n",
    "\n",
    "# COST of REVENUE (as % of Revenue)\n",
    "cogs = [int(st[\"Cost Of Revenue\"]) for st in yf_income_statements][::-1]\n",
    "cogs_to_revenue = []\n",
    "print(\"\\nCost of Revenue to Revenue:\")\n",
    "for i in range(len(cogs)):\n",
    "    ratio = cogs[i] / revenues[i]\n",
    "    cogs_to_revenue.append(ratio)\n",
    "    print(f\"\\t{ratio * 100:.2f} %\")\n",
    "    \n",
    "# Choose the last one to forecast next \n",
    "forecasted_costs_of_revenue = []\n",
    "for revenue in forecasted_revenues:\n",
    "    forecasted_costs_of_revenue.append(revenue * cogs_to_revenue[-1])\n",
    "print(f\"Forecasted Costs of Revenue: {forecasted_costs_of_revenue}\")\n",
    "\n",
    "# OPERATING EXPENSES (as % of Revenue)\n",
    "operating_expenses = [int(st[\"Operating Expense\"]) for st in yf_income_statements][::-1]\n",
    "operating_expenses_to_revenue = []\n",
    "print(\"\\nOperating Expenses to Revenue:\")\n",
    "for i in range(len(operating_expenses)):\n",
    "    ratio = operating_expenses[i] / revenues[i]\n",
    "    operating_expenses_to_revenue.append(ratio)\n",
    "    print(f\"\\t{ratio * 100:.2f} %\")\n",
    "    \n",
    "# Choose the last one to forecast next \n",
    "forecasted_operating_expenses = []\n",
    "for revenue in forecasted_revenues:\n",
    "    forecasted_operating_expenses.append(revenue * operating_expenses_to_revenue[-1])\n",
    "print(f\"Forecasted Operating Expenses: {forecasted_operating_expenses}\")"
   ]
  },
  {
   "cell_type": "markdown",
   "id": "82dee8ec-aad2-4358-96f6-4c1793cc1350",
   "metadata": {},
   "source": [
    "#### Operating Profit"
   ]
  },
  {
   "cell_type": "code",
   "execution_count": null,
   "id": "e506d160-0910-4c88-ad48-3199ea52e5ba",
   "metadata": {
    "tags": []
   },
   "outputs": [],
   "source": [
    "forecasted_operating_profit = []\n",
    "for i in range(len(forecasted_revenues)):\n",
    "    forecasted_operating_profit.append(forecasted_revenues[i] - forecasted_costs_of_revenue[i] - forecasted_operating_expenses[i])\n",
    "print(f\"Forecasted Operating Profit: {forecasted_operating_profit}\")"
   ]
  },
  {
   "cell_type": "markdown",
   "id": "8221320d-4f80-458b-bc3f-99e599cce6bd",
   "metadata": {},
   "source": [
    "#### Tax Rate"
   ]
  },
  {
   "cell_type": "code",
   "execution_count": null,
   "id": "1171d913-2fbf-4f93-92b1-ceb830f3f2dc",
   "metadata": {
    "tags": []
   },
   "outputs": [],
   "source": [
    "tax_rates = []\n",
    "print(\"Historical Tax Rate:\")\n",
    "for st in yf_income_statements[::-1]:\n",
    "    tax_rates.append(st[\"Tax Rate For Calcs\"])\n",
    "    print(f\"\\t{st[\"Tax Rate For Calcs\"] * 100} %\")\n",
    "    \n",
    "forecasted_tax_rates = [tax_rates[-1]] * 3\n",
    "print(f\"Forecasted Tax Rates: {forecasted_tax_rates}\")"
   ]
  },
  {
   "cell_type": "markdown",
   "id": "5b79043d-b03b-42d3-9039-0630728bce9a",
   "metadata": {},
   "source": [
    "#### Capital Expenditure"
   ]
  },
  {
   "cell_type": "code",
   "execution_count": 1,
   "id": "9ef4ddd3-cbd0-4f0f-b583-e908fdd61c67",
   "metadata": {
    "tags": []
   },
   "outputs": [
    {
     "name": "stdout",
     "output_type": "stream",
     "text": [
      "Historical CapEx:\n"
     ]
    },
    {
     "ename": "NameError",
     "evalue": "name 'yf_cash_flows' is not defined",
     "output_type": "error",
     "traceback": [
      "\u001b[0;31m---------------------------------------------------------------------------\u001b[0m",
      "\u001b[0;31mNameError\u001b[0m                                 Traceback (most recent call last)",
      "Cell \u001b[0;32mIn[1], line 3\u001b[0m\n\u001b[1;32m      1\u001b[0m cap_ex \u001b[38;5;241m=\u001b[39m []\n\u001b[1;32m      2\u001b[0m \u001b[38;5;28mprint\u001b[39m(\u001b[38;5;124m\"\u001b[39m\u001b[38;5;124mHistorical CapEx:\u001b[39m\u001b[38;5;124m\"\u001b[39m)\n\u001b[0;32m----> 3\u001b[0m \u001b[38;5;28;01mfor\u001b[39;00m cf \u001b[38;5;129;01min\u001b[39;00m \u001b[43myf_cash_flows\u001b[49m:\n\u001b[1;32m      4\u001b[0m     cap_ex\u001b[38;5;241m.\u001b[39mappend(\u001b[38;5;241m-\u001b[39mcf[\u001b[38;5;124m\"\u001b[39m\u001b[38;5;124mCapital Expenditure\u001b[39m\u001b[38;5;124m\"\u001b[39m])\n\u001b[1;32m      5\u001b[0m     \u001b[38;5;28mprint\u001b[39m(\u001b[38;5;124mf\u001b[39m\u001b[38;5;124m\"\u001b[39m\u001b[38;5;130;01m\\t\u001b[39;00m\u001b[38;5;132;01m{\u001b[39;00mcf[\u001b[38;5;124m\"\u001b[39m\u001b[38;5;124mCapital Expenditure\u001b[39m\u001b[38;5;124m\"\u001b[39m]\u001b[38;5;132;01m}\u001b[39;00m\u001b[38;5;124m\"\u001b[39m)\n",
      "\u001b[0;31mNameError\u001b[0m: name 'yf_cash_flows' is not defined"
     ]
    }
   ],
   "source": [
    "cap_ex = []\n",
    "print(\"Historical CapEx:\")\n",
    "for cf in yf_cash_flows:\n",
    "    cap_ex.append(-cf[\"Capital Expenditure\"])\n",
    "    print(f\"\\t{cf[\"Capital Expenditure\"]}\")"
   ]
  },
  {
   "cell_type": "code",
   "execution_count": null,
   "id": "964e7691-0a95-4948-8876-038be7f0e521",
   "metadata": {},
   "outputs": [],
   "source": []
  },
  {
   "cell_type": "markdown",
   "id": "2840d2dd-dcff-447d-bf5d-2f4d993c8b6a",
   "metadata": {},
   "source": [
    "### Cost of Equity"
   ]
  },
  {
   "cell_type": "code",
   "execution_count": 12,
   "id": "e2cd75e7-c638-497c-8e06-d91d80e0e661",
   "metadata": {
    "tags": []
   },
   "outputs": [],
   "source": [
    "# treasury_yield_resp = requests.get(f\"https://www.alphavantage.co/query?function=TREASURY_YIELD&interval=monthly&maturity=10year&apikey={AV_API_KEY}\").json()\n",
    "# overview_resp = requests.get(f\"https://www.alphavantage.co/query?function=OVERVIEW&symbol={TICKER}&apikey={AV_API_KEY}\").json()"
   ]
  },
  {
   "cell_type": "code",
   "execution_count": 14,
   "id": "ce52869f-2be1-4e1b-a5e8-7707787a83f9",
   "metadata": {
    "tags": []
   },
   "outputs": [
    {
     "data": {
      "text/plain": [
       "0.11900680000000001"
      ]
     },
     "execution_count": 14,
     "metadata": {},
     "output_type": "execute_result"
    }
   ],
   "source": [
    "risk_free_rate = float(treasury_yield_resp[\"data\"][0][\"value\"]) / 100  # treasury bonds rate\n",
    "beta = float(overview_resp[\"Beta\"])\n",
    "expected_market_return = 0.1  # historical\n",
    "market_risk_premium = expected_market_return - risk_free_rate\n",
    "\n",
    "expected_return = risk_free_rate + beta * market_risk_premium  # cost of equity\n",
    "expected_return"
   ]
  },
  {
   "cell_type": "markdown",
   "id": "1056d06a-61ec-46d1-9a83-b7d4eb4c7740",
   "metadata": {},
   "source": [
    "### Cost of Debt"
   ]
  },
  {
   "cell_type": "code",
   "execution_count": 33,
   "id": "720f7eff-065e-4466-99d8-1f011c1c1dd8",
   "metadata": {
    "tags": []
   },
   "outputs": [
    {
     "data": {
      "text/plain": [
       "0.06690978278103694"
      ]
     },
     "execution_count": 33,
     "metadata": {},
     "output_type": "execute_result"
    }
   ],
   "source": [
    "average_debt = (int(balance_sheets_resp[\"annualReports\"][0][\"shortLongTermDebtTotal\"]) + int(balance_sheets_resp[\"annualReports\"][1][\"shortLongTermDebtTotal\"])) / 2\n",
    "\n",
    "cost_of_debt = (int(income_statements_resp[\"annualReports\"][0][\"interestAndDebtExpense\"])) / average_debt\n",
    "cost_of_debt"
   ]
  },
  {
   "cell_type": "markdown",
   "id": "1559b489-c670-4d94-a7b9-9ea4dfa9a0ba",
   "metadata": {},
   "source": [
    "### WACC"
   ]
  },
  {
   "cell_type": "code",
   "execution_count": 35,
   "id": "12ec69a0-2df6-4d28-ac1c-67ba858d600d",
   "metadata": {
    "tags": []
   },
   "outputs": [
    {
     "data": {
      "text/plain": [
       "0.0921076417820669"
      ]
     },
     "execution_count": 35,
     "metadata": {},
     "output_type": "execute_result"
    }
   ],
   "source": [
    "cost_of_equity = expected_return\n",
    "tax_rate = int(income_statements_resp[\"annualReports\"][0][\"incomeTaxExpense\"]) / int(income_statements_resp[\"annualReports\"][0][\"incomeBeforeTax\"])\n",
    "equity = int(balance_sheets_resp[\"annualReports\"][0][\"totalShareholderEquity\"])\n",
    "\n",
    "equity_weight = equity / (equity + average_debt)\n",
    "debt_weight = average_debt / (equity + average_debt)\n",
    "\n",
    "wacc = equity_weight * cost_of_equity + debt_weight * cost_of_debt * (1 - tax_rate)\n",
    "wacc"
   ]
  },
  {
   "cell_type": "code",
   "execution_count": null,
   "id": "13478017-0ffd-4243-9512-c7d0746fccd3",
   "metadata": {},
   "outputs": [],
   "source": []
  }
 ],
 "metadata": {
  "kernelspec": {
   "display_name": "stock-val-venv",
   "language": "python",
   "name": "stock-val-venv"
  },
  "language_info": {
   "codemirror_mode": {
    "name": "ipython",
    "version": 3
   },
   "file_extension": ".py",
   "mimetype": "text/x-python",
   "name": "python",
   "nbconvert_exporter": "python",
   "pygments_lexer": "ipython3",
   "version": "3.13.2"
  }
 },
 "nbformat": 4,
 "nbformat_minor": 5
}
