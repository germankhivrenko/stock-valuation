{
 "cells": [
  {
   "cell_type": "markdown",
   "id": "edbd72a8-9134-4147-b08a-4c86c19de5b4",
   "metadata": {},
   "source": [
    "# DCF\n",
    "#### Alpha Vantage"
   ]
  },
  {
   "cell_type": "code",
   "execution_count": 1,
   "id": "d742571e-9e9a-49d4-b2d5-663c5815c8f8",
   "metadata": {
    "tags": []
   },
   "outputs": [],
   "source": [
    "import requests\n",
    "import json\n",
    "\n",
    "\n",
    "AV_API_KEY = \"WGD32KDX07IA26F3\"\n",
    "TICKER = \"UBER\""
   ]
  },
  {
   "cell_type": "code",
   "execution_count": 2,
   "id": "424922c4-5cac-4406-ab67-53810f9af976",
   "metadata": {
    "tags": []
   },
   "outputs": [],
   "source": [
    "# income_statements_resp = requests.get(f\"https://www.alphavantage.co/query?function=INCOME_STATEMENT&symbol={TICKER}&apikey={AV_API_KEY}\").json()\n",
    "# balance_sheets_resp = requests.get(f\"https://www.alphavantage.co/query?function=BALANCE_SHEET&symbol={TICKER}&apikey={AV_API_KEY}\").json()"
   ]
  },
  {
   "cell_type": "code",
   "execution_count": 3,
   "id": "3578cabb-9cee-4751-97db-5d72a120a0c2",
   "metadata": {
    "tags": []
   },
   "outputs": [
    {
     "data": {
      "text/plain": [
       "{'fiscalDateEnding': '2023-12-31',\n",
       " 'reportedCurrency': 'USD',\n",
       " 'grossProfit': '7236000000',\n",
       " 'totalRevenue': '37281000000',\n",
       " 'costOfRevenue': '30045000000',\n",
       " 'costofGoodsAndServicesSold': '22457000000',\n",
       " 'operatingIncome': '1110000000',\n",
       " 'sellingGeneralAndAdministrative': '7038000000',\n",
       " 'researchAndDevelopment': '3164000000',\n",
       " 'operatingExpenses': '10844000000',\n",
       " 'investmentIncomeNet': '484000000',\n",
       " 'netInterestIncome': '-633000000',\n",
       " 'interestIncome': '484000000',\n",
       " 'interestExpense': '633000000',\n",
       " 'nonInterestIncome': '-182000000',\n",
       " 'otherNonOperatingIncome': '-198000000',\n",
       " 'depreciation': '355000000',\n",
       " 'depreciationAndAmortization': '550000000',\n",
       " 'incomeBeforeTax': '2100000000',\n",
       " 'incomeTaxExpense': '213000000',\n",
       " 'interestAndDebtExpense': '633000000',\n",
       " 'netIncomeFromContinuingOperations': '2156000000',\n",
       " 'comprehensiveIncomeNetOfTax': '1909000000',\n",
       " 'ebit': '2733000000',\n",
       " 'ebitda': '3283000000',\n",
       " 'netIncome': '1887000000'}"
      ]
     },
     "execution_count": 3,
     "metadata": {},
     "output_type": "execute_result"
    }
   ],
   "source": [
    "# income_statements_resp[\"annualReports\"][0]"
   ]
  },
  {
   "cell_type": "markdown",
   "id": "da185c21-dc0e-4670-82b0-ff5549e348e3",
   "metadata": {},
   "source": [
    "#### Yahoo Finance"
   ]
  },
  {
   "cell_type": "code",
   "execution_count": 2,
   "id": "f94282c8-deb5-44de-871b-6e6ebc017a1d",
   "metadata": {
    "tags": []
   },
   "outputs": [],
   "source": [
    "import yfinance as yf\n",
    "\n",
    "# ticker = yf.Ticker(\"UBER\")\n",
    "# print(ticket.info)\n",
    "\n",
    "# Get annual financial statements\n",
    "# print(ticker.financials)  # Income statement\n",
    "# print(ticker.balance_sheet)\n",
    "# print(ticker.cashflow)"
   ]
  },
  {
   "cell_type": "code",
   "execution_count": 24,
   "id": "63edd3e3-86d3-44cc-b0e2-9da20d1153f8",
   "metadata": {
    "tags": []
   },
   "outputs": [
    {
     "data": {
      "text/plain": [
       "Free Cash Flow                             NaN\n",
       "Repurchase Of Capital Stock                0.0\n",
       "Repayment Of Debt                          NaN\n",
       "Issuance Of Debt                           NaN\n",
       "Issuance Of Capital Stock                  NaN\n",
       "                                          ... \n",
       "Earnings Losses From Equity Investments    NaN\n",
       "Gain Loss On Investment Securities         NaN\n",
       "Net Foreign Currency Exchange Gain Loss    NaN\n",
       "Gain Loss On Sale Of Business              NaN\n",
       "Net Income From Continuing Operations      NaN\n",
       "Name: 2020-12-31 00:00:00, Length: 65, dtype: object"
      ]
     },
     "execution_count": 24,
     "metadata": {},
     "output_type": "execute_result"
    }
   ],
   "source": [
    "yf_income_statements = []\n",
    "for date in ticker.financials:\n",
    "    yf_income_statements.append(ticker.financials[date])\n",
    "yf_income_statements.pop()  # pop since 2020 has NaN everywhere\n",
    "\n",
    "yf_balance_sheets = []\n",
    "for date in ticker.balance_sheet:\n",
    "    yf_balance_sheets.append(ticker.balance_sheet[date])\n",
    "yf_balance_sheets.pop()\n",
    "\n",
    "yf_cash_flows = []\n",
    "for date in ticker.cashflow:\n",
    "    yf_cash_flows.append(ticker.cashflow[date])\n",
    "yf_cash_flows.pop()"
   ]
  },
  {
   "cell_type": "markdown",
   "id": "6d2374e6-4a6f-4040-83c5-7d56bfe2fc02",
   "metadata": {},
   "source": [
    "### Forecast FCF\n",
    "#### Revenue, Cost of Revenue, Operating Expenses"
   ]
  },
  {
   "cell_type": "code",
   "execution_count": 25,
   "id": "0e59c243-37c1-42ab-9af6-b13e21a87c82",
   "metadata": {
    "tags": []
   },
   "outputs": [
    {
     "name": "stdout",
     "output_type": "stream",
     "text": [
      "Revenue growth rate:\n",
      "\t82.62 %\n",
      "\t16.95 %\n",
      "\t17.96 %\n",
      "Forcasted revenues: [51878020546.65916, 61197167125.371544, 72190365490.18507]\n",
      "\n",
      "Cost of Revenue to Revenue:\n",
      "\t53.57 %\n",
      "\t61.67 %\n",
      "\t60.24 %\n",
      "\t60.60 %\n",
      "Forecasted Costs of Revenue: [31438472090.340923, 37085945269.41373, 43747906468.66438]\n",
      "\n",
      "Operating Expenses to Revenue:\n",
      "\t68.39 %\n",
      "\t44.08 %\n",
      "\t36.79 %\n",
      "\t33.03 %\n",
      "Forecasted Operating Expenses: [17137748021.780533, 20216300059.0613, 23847870067.793186]\n"
     ]
    }
   ],
   "source": [
    "revenues = [int(st[\"Total Revenue\"]) for st in yf_income_statements][::-1]\n",
    "revenue_growth_rates = []\n",
    "\n",
    "\n",
    "# REVENUE\n",
    "print(\"Revenue growth rate:\")\n",
    "for i in range(1, len(revenues)):\n",
    "    growth_rate = revenues[i] / revenues[i - 1] - 1\n",
    "    revenue_growth_rates.append(growth_rate)\n",
    "    print(f\"\\t{growth_rate * 100:.2f} %\")\n",
    "\n",
    "# Choose the last one to forecast next\n",
    "forecasted_revenues = [revenues[-1] * (1 + revenue_growth_rates[-1])]\n",
    "for _ in range(2):\n",
    "    forecasted_revenues.append(forecasted_revenues[-1] * (1 + revenue_growth_rates[-1]))\n",
    "print(f\"Forcasted revenues: {forecasted_revenues}\")\n",
    "\n",
    "\n",
    "# COST of REVENUE (as % of Revenue)\n",
    "cogs = [int(st[\"Cost Of Revenue\"]) for st in yf_income_statements][::-1]\n",
    "cogs_to_revenue = []\n",
    "print(\"\\nCost of Revenue to Revenue:\")\n",
    "for i in range(len(cogs)):\n",
    "    ratio = cogs[i] / revenues[i]\n",
    "    cogs_to_revenue.append(ratio)\n",
    "    print(f\"\\t{ratio * 100:.2f} %\")\n",
    "    \n",
    "# Choose the last one to forecast next \n",
    "forecasted_costs_of_revenue = []\n",
    "for revenue in forecasted_revenues:\n",
    "    forecasted_costs_of_revenue.append(revenue * cogs_to_revenue[-1])\n",
    "print(f\"Forecasted Costs of Revenue: {forecasted_costs_of_revenue}\")\n",
    "\n",
    "# OPERATING EXPENSES (as % of Revenue)\n",
    "operating_expenses = [int(st[\"Operating Expense\"]) for st in yf_income_statements][::-1]\n",
    "operating_expenses_to_revenue = []\n",
    "print(\"\\nOperating Expenses to Revenue:\")\n",
    "for i in range(len(operating_expenses)):\n",
    "    ratio = operating_expenses[i] / revenues[i]\n",
    "    operating_expenses_to_revenue.append(ratio)\n",
    "    print(f\"\\t{ratio * 100:.2f} %\")\n",
    "    \n",
    "# Choose the last one to forecast next \n",
    "forecasted_operating_expenses = []\n",
    "for revenue in forecasted_revenues:\n",
    "    forecasted_operating_expenses.append(revenue * operating_expenses_to_revenue[-1])\n",
    "print(f\"Forecasted Operating Expenses: {forecasted_operating_expenses}\")"
   ]
  },
  {
   "cell_type": "markdown",
   "id": "82dee8ec-aad2-4358-96f6-4c1793cc1350",
   "metadata": {},
   "source": [
    "#### Operating Profit"
   ]
  },
  {
   "cell_type": "code",
   "execution_count": 26,
   "id": "e506d160-0910-4c88-ad48-3199ea52e5ba",
   "metadata": {
    "tags": []
   },
   "outputs": [
    {
     "name": "stdout",
     "output_type": "stream",
     "text": [
      "Forecasted Operating Profit: [3301800434.5377007, 3894921796.8965187, 4594588953.727505]\n"
     ]
    }
   ],
   "source": [
    "forecasted_operating_profit = []\n",
    "for i in range(len(forecasted_revenues)):\n",
    "    forecasted_operating_profit.append(forecasted_revenues[i] - forecasted_costs_of_revenue[i] - forecasted_operating_expenses[i])\n",
    "print(f\"Forecasted Operating Profit: {forecasted_operating_profit}\")"
   ]
  },
  {
   "cell_type": "markdown",
   "id": "8221320d-4f80-458b-bc3f-99e599cce6bd",
   "metadata": {},
   "source": [
    "#### Tax Rate"
   ]
  },
  {
   "cell_type": "code",
   "execution_count": 27,
   "id": "1171d913-2fbf-4f93-92b1-ceb830f3f2dc",
   "metadata": {
    "tags": []
   },
   "outputs": [
    {
     "name": "stdout",
     "output_type": "stream",
     "text": [
      "Historical Tax Rate:\n",
      "\t27.0 %\n",
      "\t1.9 %\n",
      "\t9.2 %\n",
      "\t21.0 %\n",
      "Forecasted Tax Rates: [0.21, 0.21, 0.21]\n"
     ]
    }
   ],
   "source": [
    "tax_rates = []\n",
    "print(\"Historical Tax Rate:\")\n",
    "for st in yf_income_statements[::-1]:\n",
    "    tax_rates.append(st[\"Tax Rate For Calcs\"])\n",
    "    print(f\"\\t{st[\"Tax Rate For Calcs\"] * 100} %\")\n",
    "    \n",
    "forecasted_tax_rates = [tax_rates[-1]] * 3\n",
    "print(f\"Forecasted Tax Rates: {forecasted_tax_rates}\")"
   ]
  },
  {
   "cell_type": "markdown",
   "id": "5b79043d-b03b-42d3-9039-0630728bce9a",
   "metadata": {},
   "source": [
    "#### Capital Expenditure"
   ]
  },
  {
   "cell_type": "code",
   "execution_count": 28,
   "id": "9ef4ddd3-cbd0-4f0f-b583-e908fdd61c67",
   "metadata": {
    "tags": []
   },
   "outputs": [
    {
     "name": "stdout",
     "output_type": "stream",
     "text": [
      "Historical CapEx:\n",
      "\t-242000000.0\n",
      "\t-223000000.0\n",
      "\t-252000000.0\n",
      "\t-298000000.0\n",
      "Forecasted CapEx: [352396825.3968254, 416723230.0327538, 492791756.1498438]\n"
     ]
    }
   ],
   "source": [
    "cap_ex = []\n",
    "print(\"Historical CapEx:\")\n",
    "for cf in yf_cash_flows:\n",
    "    cap_ex.append(-cf[\"Capital Expenditure\"])\n",
    "    print(f\"\\t{cf[\"Capital Expenditure\"]}\")\n",
    "\n",
    "cap_ex_growth_rate = cap_ex[-1] / cap_ex[-2] - 1\n",
    "forecasted_cap_ex = [cap_ex[-1] * (1 + cap_ex_growth_rate)]\n",
    "for _ in range(2):\n",
    "    forecasted_cap_ex.append(forecasted_cap_ex[-1] * (1 + cap_ex_growth_rate))\n",
    "print(f\"Forecasted CapEx: {forecasted_cap_ex}\")"
   ]
  },
  {
   "cell_type": "markdown",
   "id": "5fe078b0-a6a6-4d0c-a3b5-4ef5b47e4e33",
   "metadata": {},
   "source": [
    "#### Working Capital Change"
   ]
  },
  {
   "cell_type": "code",
   "execution_count": 30,
   "id": "8b159dc4-5a72-4270-8a10-b23be6d6f09d",
   "metadata": {},
   "outputs": [
    {
     "name": "stdout",
     "output_type": "stream",
     "text": [
      "Historical Working Capital\n",
      "\t769000000.0\n",
      "\t1843000000.0\n",
      "\t396000000.0\n",
      "\t-205000000.0\n",
      "-601000000.0\n"
     ]
    }
   ],
   "source": [
    "working_capitals = []\n",
    "print(\"Historical Working Capital\")\n",
    "for bs in yf_balance_sheets:\n",
    "    working_capitals.append(bs[\"Working Capital\"])\n",
    "    print(f\"\\t{bs[\"Working Capital\"]}\")\n",
    "recent_working_capital_change = working_capitals[-1] - working_capitals[-2]\n",
    "print(recent_working_capital_change)"
   ]
  },
  {
   "cell_type": "markdown",
   "id": "2840d2dd-dcff-447d-bf5d-2f4d993c8b6a",
   "metadata": {},
   "source": [
    "### Cost of Equity"
   ]
  },
  {
   "cell_type": "code",
   "execution_count": 12,
   "id": "e2cd75e7-c638-497c-8e06-d91d80e0e661",
   "metadata": {
    "tags": []
   },
   "outputs": [],
   "source": [
    "# treasury_yield_resp = requests.get(f\"https://www.alphavantage.co/query?function=TREASURY_YIELD&interval=monthly&maturity=10year&apikey={AV_API_KEY}\").json()\n",
    "# overview_resp = requests.get(f\"https://www.alphavantage.co/query?function=OVERVIEW&symbol={TICKER}&apikey={AV_API_KEY}\").json()"
   ]
  },
  {
   "cell_type": "code",
   "execution_count": 14,
   "id": "ce52869f-2be1-4e1b-a5e8-7707787a83f9",
   "metadata": {
    "tags": []
   },
   "outputs": [
    {
     "data": {
      "text/plain": [
       "0.11900680000000001"
      ]
     },
     "execution_count": 14,
     "metadata": {},
     "output_type": "execute_result"
    }
   ],
   "source": [
    "risk_free_rate = float(treasury_yield_resp[\"data\"][0][\"value\"]) / 100  # treasury bonds rate\n",
    "beta = float(overview_resp[\"Beta\"])\n",
    "expected_market_return = 0.1  # historical\n",
    "market_risk_premium = expected_market_return - risk_free_rate\n",
    "\n",
    "expected_return = risk_free_rate + beta * market_risk_premium  # cost of equity\n",
    "expected_return"
   ]
  },
  {
   "cell_type": "markdown",
   "id": "1056d06a-61ec-46d1-9a83-b7d4eb4c7740",
   "metadata": {},
   "source": [
    "### Cost of Debt"
   ]
  },
  {
   "cell_type": "code",
   "execution_count": 33,
   "id": "720f7eff-065e-4466-99d8-1f011c1c1dd8",
   "metadata": {
    "tags": []
   },
   "outputs": [
    {
     "data": {
      "text/plain": [
       "0.06690978278103694"
      ]
     },
     "execution_count": 33,
     "metadata": {},
     "output_type": "execute_result"
    }
   ],
   "source": [
    "average_debt = (int(balance_sheets_resp[\"annualReports\"][0][\"shortLongTermDebtTotal\"]) + int(balance_sheets_resp[\"annualReports\"][1][\"shortLongTermDebtTotal\"])) / 2\n",
    "\n",
    "cost_of_debt = (int(income_statements_resp[\"annualReports\"][0][\"interestAndDebtExpense\"])) / average_debt\n",
    "cost_of_debt"
   ]
  },
  {
   "cell_type": "markdown",
   "id": "1559b489-c670-4d94-a7b9-9ea4dfa9a0ba",
   "metadata": {},
   "source": [
    "### WACC"
   ]
  },
  {
   "cell_type": "code",
   "execution_count": 35,
   "id": "12ec69a0-2df6-4d28-ac1c-67ba858d600d",
   "metadata": {
    "tags": []
   },
   "outputs": [
    {
     "data": {
      "text/plain": [
       "0.0921076417820669"
      ]
     },
     "execution_count": 35,
     "metadata": {},
     "output_type": "execute_result"
    }
   ],
   "source": [
    "cost_of_equity = expected_return\n",
    "tax_rate = int(income_statements_resp[\"annualReports\"][0][\"incomeTaxExpense\"]) / int(income_statements_resp[\"annualReports\"][0][\"incomeBeforeTax\"])\n",
    "equity = int(balance_sheets_resp[\"annualReports\"][0][\"totalShareholderEquity\"])\n",
    "\n",
    "equity_weight = equity / (equity + average_debt)\n",
    "debt_weight = average_debt / (equity + average_debt)\n",
    "\n",
    "wacc = equity_weight * cost_of_equity + debt_weight * cost_of_debt * (1 - tax_rate)\n",
    "wacc"
   ]
  },
  {
   "cell_type": "code",
   "execution_count": null,
   "id": "13478017-0ffd-4243-9512-c7d0746fccd3",
   "metadata": {},
   "outputs": [],
   "source": []
  }
 ],
 "metadata": {
  "kernelspec": {
   "display_name": "stock-val-venv",
   "language": "python",
   "name": "stock-val-venv"
  },
  "language_info": {
   "codemirror_mode": {
    "name": "ipython",
    "version": 3
   },
   "file_extension": ".py",
   "mimetype": "text/x-python",
   "name": "python",
   "nbconvert_exporter": "python",
   "pygments_lexer": "ipython3",
   "version": "3.13.2"
  }
 },
 "nbformat": 4,
 "nbformat_minor": 5
}
