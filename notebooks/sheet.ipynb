{
 "cells": [
  {
   "cell_type": "code",
   "execution_count": 6,
   "id": "564d3cee-832f-48e4-bfd1-6a0165d53328",
   "metadata": {
    "tags": []
   },
   "outputs": [],
   "source": [
    "from abc import ABC\n",
    "\n",
    "\n",
    "class Expression(ABC):\n",
    "    def eval(context):\n",
    "        ...\n",
    "\n",
    "        \n",
    "class CompoundExpression(Expression):\n",
    "    def __init__(expressions):\n",
    "        self._children = expressions\n",
    "        \n",
    "    def eval(context):\n",
    "        ...\n",
    "\n",
    "        \n",
    "class Literal(Expression):\n",
    "    def __init__(value):\n",
    "        self._value = value\n",
    "    \n",
    "    def eval(context):\n",
    "        return value\n",
    "\n",
    "    \n",
    "class Sum(CompoundExpression):\n",
    "    def eval(context):\n",
    "        return sum(expr.eval() for expr in self._children)\n",
    "\n",
    "    \n",
    "class Cell(Expression):  # TODO: naming (CellRefExpression, CellExpression)\n",
    "    def __init__(cell_ref):  # Can be a Cell Ref or \n",
    "        self._cell_ref = cell_ref\n",
    "    \n",
    "    def eval(context):\n",
    "        return context.sheet[self._cell_ref].eval()\n",
    "\n",
    "# TODO: RowRef (case #1: last 5 in row, case #2: all prev elements)"
   ]
  },
  {
   "cell_type": "code",
   "execution_count": null,
   "id": "36ce123f-8f84-4e23-995e-33725b3c7cdb",
   "metadata": {},
   "outputs": [],
   "source": [
    "from dataclasses import dataclass\n",
    "from typing import Any\n",
    "\n",
    "\n",
    "@dataclass(frozen=True)\n",
    "class RelativeCellRef:\n",
    "    row: str | None\n",
    "    col_offset: int | None\n",
    "    \n",
    "    # TODO: from_tuple, to_tuple (a la (\"revenue\", 0))\n",
    "\n",
    "\n",
    "@dataclass(frozen=True)\n",
    "class Context:\n",
    "    sheet: Sheet\n",
    "    index: CellIndex # TODO: type\n",
    "\n",
    "\n",
    "class Sheet:\n",
    "    def __init__():\n",
    "        self._sheet = {\n",
    "            \"a\": [Literal(10)],\n",
    "            \"b\": [Literal(5)],\n",
    "            \"c\": [Sum(Cell(\"a\"), Cell(\"b\"))]\n",
    "        }\n",
    "    \n",
    "    def to_dict():\n",
    "        return {\n",
    "            key: [expr.eval(Context(sheet=self, curr_index=(key, i))) for i, expr in enumerate(row)]\n",
    "            for key, row in self._data.items()\n",
    "        }"
   ]
  }
 ],
 "metadata": {
  "kernelspec": {
   "display_name": "stock-val-venv",
   "language": "python",
   "name": "stock-val-venv"
  },
  "language_info": {
   "codemirror_mode": {
    "name": "ipython",
    "version": 3
   },
   "file_extension": ".py",
   "mimetype": "text/x-python",
   "name": "python",
   "nbconvert_exporter": "python",
   "pygments_lexer": "ipython3",
   "version": "3.13.2"
  }
 },
 "nbformat": 4,
 "nbformat_minor": 5
}
