{
 "cells": [
  {
   "cell_type": "markdown",
   "id": "3f7d55f3-f226-4e10-b57c-3aa32dbd73e5",
   "metadata": {},
   "source": [
    "### GAAP Guides\n",
    "https://www.fasb.org/projects/fasb-taxonomies/resources/taxonomy-implementation-guides\n",
    "\n",
    "\n",
    "https://www.calcbench.com/element/ReceivablesNetCurrent"
   ]
  },
  {
   "cell_type": "markdown",
   "id": "52d4a538-6881-49eb-9d68-77e7cfc0dca5",
   "metadata": {},
   "source": [
    "---"
   ]
  },
  {
   "cell_type": "code",
   "execution_count": 148,
   "id": "62ec17dc-72d9-48a8-8ba3-d9a179b69271",
   "metadata": {
    "tags": []
   },
   "outputs": [
    {
     "data": {
      "text/html": [
       "<pre style=\"white-space:pre;overflow-x:auto;line-height:normal;font-family:Menlo,'DejaVu Sans Mono',consolas,'Courier New',monospace\"></pre>\n"
      ],
      "text/plain": []
     },
     "metadata": {},
     "output_type": "display_data"
    },
    {
     "data": {
      "text/plain": [
       "\u001b[1;38;5;245m╭─\u001b[0m\u001b[1;38;5;245m───────────────────────────────────────\u001b[0m\u001b[1;38;5;245m \u001b[0m\u001b[1;38;5;245mFilings for \u001b[0m\u001b[1;32mApple Inc.\u001b[0m\u001b[1;2;38;5;245m [\u001b[0m\u001b[1;33m320193\u001b[0m\u001b[1;2;38;5;245m]\u001b[0m\u001b[1;38;5;245m \u001b[0m\u001b[1;38;5;245m───────────────────────────────────────\u001b[0m\u001b[1;38;5;245m─╮\u001b[0m\n",
       "\u001b[1;38;5;245m│\u001b[0m                                                                                                                 \u001b[1;38;5;245m│\u001b[0m\n",
       "\u001b[1;38;5;245m│\u001b[0m  \u001b[1m \u001b[0m\u001b[1m#\u001b[0m\u001b[1m \u001b[0m \u001b[1m \u001b[0m\u001b[1mForm    \u001b[0m\u001b[1m \u001b[0m \u001b[1m \u001b[0m\u001b[1mDescription                                       \u001b[0m\u001b[1m \u001b[0m \u001b[1m \u001b[0m\u001b[1mFiling Date\u001b[0m\u001b[1m \u001b[0m \u001b[1m \u001b[0m\u001b[1mAccession Number    \u001b[0m\u001b[1m \u001b[0m       \u001b[1;38;5;245m│\u001b[0m\n",
       "\u001b[1;38;5;245m│\u001b[0m  ────────────────────────────────────────────────────────────────────────────────────────────────────────       \u001b[1;38;5;245m│\u001b[0m\n",
       "\u001b[1;38;5;245m│\u001b[0m  \u001b[2m \u001b[0m\u001b[2m0\u001b[0m\u001b[2m \u001b[0m \u001b[1;33m \u001b[0m\u001b[1;33m10-K    \u001b[0m\u001b[1;33m \u001b[0m \u001b[1;34m \u001b[0m\u001b[1;34mAnnual report for public companies                \u001b[0m\u001b[1;34m \u001b[0m  2024-11-01   \u001b[2m \u001b[0m\u001b[2m0000320193-24-000123\u001b[0m\u001b[2m \u001b[0m       \u001b[1;38;5;245m│\u001b[0m\n",
       "\u001b[1;38;5;245m│\u001b[0m  \u001b[1;2m \u001b[0m\u001b[1;2m1\u001b[0m\u001b[1;2m \u001b[0m \u001b[1;33m \u001b[0m\u001b[1;33m10-K    \u001b[0m\u001b[1;33m \u001b[0m \u001b[1;34m \u001b[0m\u001b[1;34mAnnual report for public companies                \u001b[0m\u001b[1;34m \u001b[0m \u001b[1m \u001b[0m\u001b[1m2023-11-03 \u001b[0m\u001b[1m \u001b[0m \u001b[1;2m \u001b[0m\u001b[1;2m0000320193-23-000106\u001b[0m\u001b[1;2m \u001b[0m       \u001b[1;38;5;245m│\u001b[0m\n",
       "\u001b[1;38;5;245m│\u001b[0m  \u001b[2m \u001b[0m\u001b[2m2\u001b[0m\u001b[2m \u001b[0m \u001b[1;33m \u001b[0m\u001b[1;33m10-K    \u001b[0m\u001b[1;33m \u001b[0m \u001b[1;34m \u001b[0m\u001b[1;34mAnnual report for public companies                \u001b[0m\u001b[1;34m \u001b[0m  2022-10-28   \u001b[2m \u001b[0m\u001b[2m0000320193-22-000108\u001b[0m\u001b[2m \u001b[0m       \u001b[1;38;5;245m│\u001b[0m\n",
       "\u001b[1;38;5;245m│\u001b[0m  \u001b[1;2m \u001b[0m\u001b[1;2m3\u001b[0m\u001b[1;2m \u001b[0m \u001b[1;33m \u001b[0m\u001b[1;33m10-K    \u001b[0m\u001b[1;33m \u001b[0m \u001b[1;34m \u001b[0m\u001b[1;34mAnnual report for public companies                \u001b[0m\u001b[1;34m \u001b[0m \u001b[1m \u001b[0m\u001b[1m2021-10-29 \u001b[0m\u001b[1m \u001b[0m \u001b[1;2m \u001b[0m\u001b[1;2m0000320193-21-000105\u001b[0m\u001b[1;2m \u001b[0m       \u001b[1;38;5;245m│\u001b[0m\n",
       "\u001b[1;38;5;245m│\u001b[0m  \u001b[2m \u001b[0m\u001b[2m4\u001b[0m\u001b[2m \u001b[0m \u001b[1;33m \u001b[0m\u001b[1;33m10-K    \u001b[0m\u001b[1;33m \u001b[0m \u001b[1;34m \u001b[0m\u001b[1;34mAnnual report for public companies                \u001b[0m\u001b[1;34m \u001b[0m  2020-10-30   \u001b[2m \u001b[0m\u001b[2m0000320193-20-000096\u001b[0m\u001b[2m \u001b[0m       \u001b[1;38;5;245m│\u001b[0m\n",
       "\u001b[1;38;5;245m│\u001b[0m  \u001b[1;2m \u001b[0m\u001b[1;2m5\u001b[0m\u001b[1;2m \u001b[0m \u001b[1;33m \u001b[0m\u001b[1;33m10-K    \u001b[0m\u001b[1;33m \u001b[0m \u001b[1;34m \u001b[0m\u001b[1;34mAnnual report for public companies                \u001b[0m\u001b[1;34m \u001b[0m \u001b[1m \u001b[0m\u001b[1m2019-10-31 \u001b[0m\u001b[1m \u001b[0m \u001b[1;2m \u001b[0m\u001b[1;2m0000320193-19-000119\u001b[0m\u001b[1;2m \u001b[0m       \u001b[1;38;5;245m│\u001b[0m\n",
       "\u001b[1;38;5;245m│\u001b[0m  \u001b[2m \u001b[0m\u001b[2m6\u001b[0m\u001b[2m \u001b[0m \u001b[1;33m \u001b[0m\u001b[1;33m10-K    \u001b[0m\u001b[1;33m \u001b[0m \u001b[1;34m \u001b[0m\u001b[1;34mAnnual report for public companies                \u001b[0m\u001b[1;34m \u001b[0m  2018-11-05   \u001b[2m \u001b[0m\u001b[2m0000320193-18-000145\u001b[0m\u001b[2m \u001b[0m       \u001b[1;38;5;245m│\u001b[0m\n",
       "\u001b[1;38;5;245m│\u001b[0m  \u001b[1;2m \u001b[0m\u001b[1;2m7\u001b[0m\u001b[1;2m \u001b[0m \u001b[1;33m \u001b[0m\u001b[1;33m10-K    \u001b[0m\u001b[1;33m \u001b[0m \u001b[1;34m \u001b[0m\u001b[1;34mAnnual report for public companies                \u001b[0m\u001b[1;34m \u001b[0m \u001b[1m \u001b[0m\u001b[1m2017-11-03 \u001b[0m\u001b[1m \u001b[0m \u001b[1;2m \u001b[0m\u001b[1;2m0000320193-17-000070\u001b[0m\u001b[1;2m \u001b[0m       \u001b[1;38;5;245m│\u001b[0m\n",
       "\u001b[1;38;5;245m│\u001b[0m  \u001b[2m \u001b[0m\u001b[2m8\u001b[0m\u001b[2m \u001b[0m \u001b[1;33m \u001b[0m\u001b[1;33m10-K    \u001b[0m\u001b[1;33m \u001b[0m \u001b[1;34m \u001b[0m\u001b[1;34mAnnual report for public companies                \u001b[0m\u001b[1;34m \u001b[0m  2016-10-26   \u001b[2m \u001b[0m\u001b[2m0001628280-16-020309\u001b[0m\u001b[2m \u001b[0m       \u001b[1;38;5;245m│\u001b[0m\n",
       "\u001b[1;38;5;245m│\u001b[0m  \u001b[1;2m \u001b[0m\u001b[1;2m9\u001b[0m\u001b[1;2m \u001b[0m \u001b[1;33m \u001b[0m\u001b[1;33m10-K    \u001b[0m\u001b[1;33m \u001b[0m \u001b[1;34m \u001b[0m\u001b[1;34mAnnual report for public companies                \u001b[0m\u001b[1;34m \u001b[0m \u001b[1m \u001b[0m\u001b[1m2015-10-28 \u001b[0m\u001b[1m \u001b[0m \u001b[1;2m \u001b[0m\u001b[1;2m0001193125-15-356351\u001b[0m\u001b[1;2m \u001b[0m       \u001b[1;38;5;245m│\u001b[0m\n",
       "\u001b[1;38;5;245m│\u001b[0m                                                                                                                 \u001b[1;38;5;245m│\u001b[0m\n",
       "\u001b[1;38;5;245m╰─\u001b[0m\u001b[1;38;5;245m──────────────────────────────\u001b[0m\u001b[1;38;5;245m Company filings between 2015-10-28 and 2024-11-01 \u001b[0m\u001b[1;38;5;245m──────────────────────────────\u001b[0m\u001b[1;38;5;245m─╯\u001b[0m"
      ]
     },
     "execution_count": 148,
     "metadata": {},
     "output_type": "execute_result"
    }
   ],
   "source": [
    "# Company(\"AAPL\").get_filings(form=\"10-K\").latest(10)"
   ]
  },
  {
   "cell_type": "code",
   "execution_count": 149,
   "id": "f8254f3a-4d9e-480a-a248-592aeea3e365",
   "metadata": {
    "tags": []
   },
   "outputs": [
    {
     "data": {
      "text/plain": [
       "'2024-09-28'"
      ]
     },
     "execution_count": 149,
     "metadata": {},
     "output_type": "execute_result"
    }
   ],
   "source": [
    "# tenk = Company(\"AAPL\").get_filings(form=\"10-K\").latest(1).obj()\n",
    "# tenk.financials.xbrl_data.period_end"
   ]
  },
  {
   "cell_type": "code",
   "execution_count": 13,
   "id": "e220291c-d5f7-464d-ae47-2c13a47ebc25",
   "metadata": {
    "tags": []
   },
   "outputs": [],
   "source": [
    "from edgar import set_identity\n",
    "\n",
    "set_identity(\"germankhivrenko@gmail.com\")"
   ]
  },
  {
   "cell_type": "code",
   "execution_count": 14,
   "id": "c1052f1d-91f6-4d81-a64d-2ae6e79cca8a",
   "metadata": {
    "tags": []
   },
   "outputs": [],
   "source": [
    "import pandas as pd\n",
    "from datetime import datetime\n",
    "from edgar import Company\n",
    "\n",
    "\n",
    "def get_tenk_df(ticker, n=10):\n",
    "    lts_tenks = Company(ticker).get_filings(form=\"10-K\").latest(n)\n",
    "    \n",
    "    tenk_dfs = []\n",
    "    for tenk in lts_tenks:\n",
    "        tenk_obj = tenk.obj()\n",
    "        fins = tenk_obj.financials\n",
    "        year = str(pd.to_datetime(fins.xbrl_data.period_end).year)\n",
    "        \n",
    "        tenk_dfs.append(\n",
    "            pd.concat([\n",
    "                fins.balance_sheet.get_dataframe()[[\"concept\", year]],\n",
    "                fins.income.get_dataframe()[[\"concept\", year]],\n",
    "                fins.cashflow.get_dataframe()[[\"concept\", year]],\n",
    "                fins.equity.get_dataframe()[[\"concept\", year]],\n",
    "                fins.comprehensive_income.get_dataframe()[[\"concept\", year]],\n",
    "            ])\n",
    "        )\n",
    "        tenk_dfs[-1].set_index(\"concept\", inplace=True)\n",
    "        # tenk_dfs[-1].drop_duplicates(inplace=True)\n",
    "        tenk_dfs[-1] = tenk_dfs[-1][~tenk_dfs[-1].index.duplicated(keep=False)]\n",
    "        # tenk_dfs[-1].reset_index(drop=True, inplace=True)\n",
    "    # tenk_dfs.reverse()\n",
    "    return pd.concat(tenk_dfs, axis=1)"
   ]
  },
  {
   "cell_type": "code",
   "execution_count": 15,
   "id": "f4011df0-aa6e-48b0-8acd-e6dbde5a09b6",
   "metadata": {
    "tags": []
   },
   "outputs": [],
   "source": [
    "df = get_tenk_df(\"UBER\", 2)"
   ]
  },
  {
   "cell_type": "code",
   "execution_count": 40,
   "id": "8d4cb7c3-9e27-467e-9b45-79eef15f9500",
   "metadata": {
    "tags": []
   },
   "outputs": [
    {
     "data": {
      "text/html": [
       "<div>\n",
       "<style scoped>\n",
       "    .dataframe tbody tr th:only-of-type {\n",
       "        vertical-align: middle;\n",
       "    }\n",
       "\n",
       "    .dataframe tbody tr th {\n",
       "        vertical-align: top;\n",
       "    }\n",
       "\n",
       "    .dataframe thead th {\n",
       "        text-align: right;\n",
       "    }\n",
       "</style>\n",
       "<table border=\"1\" class=\"dataframe\">\n",
       "  <thead>\n",
       "    <tr style=\"text-align: right;\">\n",
       "      <th></th>\n",
       "      <th>2024</th>\n",
       "      <th>2023</th>\n",
       "    </tr>\n",
       "  </thead>\n",
       "  <tbody>\n",
       "    <tr>\n",
       "      <th>0</th>\n",
       "      <td>5893000000</td>\n",
       "      <td>4680000000</td>\n",
       "    </tr>\n",
       "  </tbody>\n",
       "</table>\n",
       "</div>"
      ],
      "text/plain": [
       "         2024        2023\n",
       "0  5893000000  4680000000"
      ]
     },
     "execution_count": 40,
     "metadata": {},
     "output_type": "execute_result"
    }
   ],
   "source": [
    "df_1 = df.loc[[\"us-gaap_CashAndCashEquivalentsAtCarryingValue\"]].reset_index(drop=True).astype(int)\n",
    "df_2 = df.loc[[\"us-gaap_RestrictedCashAndCashEquivalentsAtCarryingValue\"]].reset_index(drop=True).astype(int)\n",
    "df_1"
   ]
  },
  {
   "cell_type": "code",
   "execution_count": 39,
   "id": "22d7839a-4ae4-4b7a-b4ef-74adc0c7517f",
   "metadata": {
    "tags": []
   },
   "outputs": [
    {
     "data": {
      "text/html": [
       "<div>\n",
       "<style scoped>\n",
       "    .dataframe tbody tr th:only-of-type {\n",
       "        vertical-align: middle;\n",
       "    }\n",
       "\n",
       "    .dataframe tbody tr th {\n",
       "        vertical-align: top;\n",
       "    }\n",
       "\n",
       "    .dataframe thead th {\n",
       "        text-align: right;\n",
       "    }\n",
       "</style>\n",
       "<table border=\"1\" class=\"dataframe\">\n",
       "  <thead>\n",
       "    <tr style=\"text-align: right;\">\n",
       "      <th></th>\n",
       "      <th>A</th>\n",
       "      <th>B</th>\n",
       "    </tr>\n",
       "  </thead>\n",
       "  <tbody>\n",
       "    <tr>\n",
       "      <th>0</th>\n",
       "      <td>11</td>\n",
       "      <td>33</td>\n",
       "    </tr>\n",
       "  </tbody>\n",
       "</table>\n",
       "</div>"
      ],
      "text/plain": [
       "    A   B\n",
       "0  11  33"
      ]
     },
     "execution_count": 39,
     "metadata": {},
     "output_type": "execute_result"
    }
   ],
   "source": [
    "df1 = pd.DataFrame({\"A\": [1], \"B\": [3]}, index=[\"apple\"])\n",
    "df2 = pd.DataFrame({\"A\": [10], \"B\": [30]}, index=[\"banana\"])\n",
    "\n",
    "df1.reset_index(drop=True) + df2.reset_index(drop=True)"
   ]
  },
  {
   "cell_type": "code",
   "execution_count": 10,
   "id": "82d85825-29f6-49de-b480-310300849e12",
   "metadata": {
    "tags": []
   },
   "outputs": [],
   "source": [
    "df.to_csv(\"uber_tenk_financials.csv\")"
   ]
  },
  {
   "cell_type": "code",
   "execution_count": 203,
   "id": "0f6a7dea-2fcd-4bfa-9e70-e399504a76dc",
   "metadata": {
    "tags": []
   },
   "outputs": [
    {
     "data": {
      "text/html": [
       "<div>\n",
       "<style scoped>\n",
       "    .dataframe tbody tr th:only-of-type {\n",
       "        vertical-align: middle;\n",
       "    }\n",
       "\n",
       "    .dataframe tbody tr th {\n",
       "        vertical-align: top;\n",
       "    }\n",
       "\n",
       "    .dataframe thead th {\n",
       "        text-align: right;\n",
       "    }\n",
       "</style>\n",
       "<table border=\"1\" class=\"dataframe\">\n",
       "  <thead>\n",
       "    <tr style=\"text-align: right;\">\n",
       "      <th></th>\n",
       "      <th>2023</th>\n",
       "      <th>2024</th>\n",
       "    </tr>\n",
       "    <tr>\n",
       "      <th>concept</th>\n",
       "      <th></th>\n",
       "      <th></th>\n",
       "    </tr>\n",
       "  </thead>\n",
       "  <tbody>\n",
       "    <tr>\n",
       "      <th>us-gaap_CashAndCashEquivalentsAtCarryingValue</th>\n",
       "      <td>4680000000</td>\n",
       "      <td>5893000000</td>\n",
       "    </tr>\n",
       "    <tr>\n",
       "      <th>us-gaap_MarketableSecuritiesCurrent</th>\n",
       "      <td>727000000</td>\n",
       "      <td>1084000000</td>\n",
       "    </tr>\n",
       "    <tr>\n",
       "      <th>us-gaap_RestrictedCashAndCashEquivalentsAtCarryingValue</th>\n",
       "      <td>805000000</td>\n",
       "      <td>545000000</td>\n",
       "    </tr>\n",
       "    <tr>\n",
       "      <th>us-gaap_AccountsReceivableNetCurrent</th>\n",
       "      <td>3404000000</td>\n",
       "      <td>3333000000</td>\n",
       "    </tr>\n",
       "    <tr>\n",
       "      <th>us-gaap_PrepaidExpenseAndOtherAssetsCurrent</th>\n",
       "      <td>1681000000</td>\n",
       "      <td>1390000000</td>\n",
       "    </tr>\n",
       "    <tr>\n",
       "      <th>...</th>\n",
       "      <td>...</td>\n",
       "      <td>...</td>\n",
       "    </tr>\n",
       "    <tr>\n",
       "      <th>uber_DepreciationAndAmortizationIncludingAmountFromOtherIncomeExpense</th>\n",
       "      <td>NaN</td>\n",
       "      <td>737000000</td>\n",
       "    </tr>\n",
       "    <tr>\n",
       "      <th>us-gaap_AccretionAmortizationOfDiscountsAndPremiumsInvestments</th>\n",
       "      <td>NaN</td>\n",
       "      <td>-251000000</td>\n",
       "    </tr>\n",
       "    <tr>\n",
       "      <th>us-gaap_PaymentsForRepurchaseOfCommonStock</th>\n",
       "      <td>NaN</td>\n",
       "      <td>-1252000000</td>\n",
       "    </tr>\n",
       "    <tr>\n",
       "      <th>us-gaap_PaymentsForRepurchaseOfRedeemableNoncontrollingInterest</th>\n",
       "      <td>NaN</td>\n",
       "      <td>-851000000</td>\n",
       "    </tr>\n",
       "    <tr>\n",
       "      <th>us-gaap_RightOfUseAssetObtainedInExchangeForFinanceLeaseLiability</th>\n",
       "      <td>NaN</td>\n",
       "      <td>4000000</td>\n",
       "    </tr>\n",
       "  </tbody>\n",
       "</table>\n",
       "<p>121 rows × 2 columns</p>\n",
       "</div>"
      ],
      "text/plain": [
       "                                                          2023         2024\n",
       "concept                                                                    \n",
       "us-gaap_CashAndCashEquivalentsAtCarryingValue       4680000000   5893000000\n",
       "us-gaap_MarketableSecuritiesCurrent                  727000000   1084000000\n",
       "us-gaap_RestrictedCashAndCashEquivalentsAtCarry...   805000000    545000000\n",
       "us-gaap_AccountsReceivableNetCurrent                3404000000   3333000000\n",
       "us-gaap_PrepaidExpenseAndOtherAssetsCurrent         1681000000   1390000000\n",
       "...                                                        ...          ...\n",
       "uber_DepreciationAndAmortizationIncludingAmount...         NaN    737000000\n",
       "us-gaap_AccretionAmortizationOfDiscountsAndPrem...         NaN   -251000000\n",
       "us-gaap_PaymentsForRepurchaseOfCommonStock                 NaN  -1252000000\n",
       "us-gaap_PaymentsForRepurchaseOfRedeemableNoncon...         NaN   -851000000\n",
       "us-gaap_RightOfUseAssetObtainedInExchangeForFin...         NaN      4000000\n",
       "\n",
       "[121 rows x 2 columns]"
      ]
     },
     "execution_count": 203,
     "metadata": {},
     "output_type": "execute_result"
    }
   ],
   "source": [
    "df2 = get_tenk_df(\"UBER\", 2)\n",
    "df2"
   ]
  },
  {
   "cell_type": "code",
   "execution_count": 204,
   "id": "40226c32-0c36-44e7-8f9e-282796e97cba",
   "metadata": {
    "tags": []
   },
   "outputs": [
    {
     "data": {
      "text/plain": [
       "['us-gaap_CashAndCashEquivalentsAtCarryingValue',\n",
       " 'us-gaap_MarketableSecuritiesCurrent',\n",
       " 'us-gaap_RestrictedCashAndCashEquivalentsAtCarryingValue',\n",
       " 'us-gaap_AccountsReceivableNetCurrent',\n",
       " 'us-gaap_PrepaidExpenseAndOtherAssetsCurrent',\n",
       " 'us-gaap_AssetsCurrent',\n",
       " 'us-gaap_RestrictedCashAndCashEquivalentsNoncurrent',\n",
       " 'us-gaap_RestrictedInvestments',\n",
       " 'uber_MarketableAndNonMarketableInvestments',\n",
       " 'us-gaap_EquityMethodInvestments',\n",
       " 'us-gaap_PropertyPlantAndEquipmentNet',\n",
       " 'us-gaap_OperatingLeaseRightOfUseAsset',\n",
       " 'us-gaap_IntangibleAssetsNetExcludingGoodwill',\n",
       " 'us-gaap_Goodwill',\n",
       " 'us-gaap_OtherAssetsNoncurrent',\n",
       " 'us-gaap_Assets',\n",
       " 'us-gaap_AccountsPayableCurrent',\n",
       " 'uber_InsuranceReserveCurrent',\n",
       " 'us-gaap_OperatingLeaseLiabilityCurrent',\n",
       " 'us-gaap_AccruedLiabilitiesCurrent',\n",
       " 'us-gaap_LiabilitiesCurrent',\n",
       " 'uber_InsuranceReserveNoncurrent',\n",
       " 'us-gaap_LongTermDebtNoncurrent',\n",
       " 'us-gaap_OperatingLeaseLiabilityNoncurrent',\n",
       " 'us-gaap_OtherLiabilitiesNoncurrent',\n",
       " 'us-gaap_Liabilities',\n",
       " 'us-gaap_CommitmentsAndContingencies',\n",
       " 'us-gaap_RedeemableNoncontrollingInterestEquityCarryingAmount',\n",
       " 'us-gaap_CommonStockValue',\n",
       " 'us-gaap_AdditionalPaidInCapital',\n",
       " 'us-gaap_AccumulatedOtherComprehensiveIncomeLossNetOfTax',\n",
       " 'us-gaap_RetainedEarningsAccumulatedDeficit',\n",
       " 'us-gaap_StockholdersEquity',\n",
       " 'us-gaap_NonredeemableNoncontrollingInterest',\n",
       " 'us-gaap_LiabilitiesAndStockholdersEquity',\n",
       " 'us-gaap_Revenues',\n",
       " 'us-gaap_CostOfGoodsAndServiceExcludingDepreciationDepletionAndAmortization',\n",
       " 'uber_OperationsAndSupportExpense',\n",
       " 'us-gaap_SellingAndMarketingExpense',\n",
       " 'us-gaap_ResearchAndDevelopmentExpense',\n",
       " 'us-gaap_GeneralAndAdministrativeExpense',\n",
       " 'us-gaap_CostsAndExpenses',\n",
       " 'us-gaap_OperatingIncomeLoss',\n",
       " 'us-gaap_InterestExpense',\n",
       " 'us-gaap_NonoperatingIncomeExpense',\n",
       " 'us-gaap_IncomeLossFromContinuingOperationsBeforeIncomeTaxesMinorityInterestAndIncomeLossFromEquityMethodInvestments',\n",
       " 'us-gaap_IncomeTaxExpenseBenefit',\n",
       " 'us-gaap_NetIncomeLossAttributableToNoncontrollingInterest',\n",
       " 'us-gaap_NetIncomeLoss',\n",
       " 'us-gaap_EarningsPerShareBasic',\n",
       " 'us-gaap_EarningsPerShareDiluted',\n",
       " 'us-gaap_WeightedAverageNumberOfSharesOutstandingBasic',\n",
       " 'us-gaap_WeightedAverageNumberOfDilutedSharesOutstanding',\n",
       " 'us-gaap_ProvisionForDoubtfulAccounts',\n",
       " 'us-gaap_ShareBasedCompensation',\n",
       " 'us-gaap_GainLossOnSaleOfInvestments',\n",
       " 'us-gaap_DisposalGroupNotDiscontinuedOperationGainLossOnDisposal',\n",
       " 'us-gaap_DeferredIncomeTaxExpenseBenefit',\n",
       " 'uber_AssetImpairmentChargesExcludingEquityMethodInvestments',\n",
       " 'us-gaap_EquityMethodInvestmentOtherThanTemporaryImpairment',\n",
       " 'us-gaap_DebtAndEquitySecuritiesUnrealizedGainLoss',\n",
       " 'uber_RevaluationOnCallOption',\n",
       " 'us-gaap_ForeignCurrencyTransactionGainLossUnrealized',\n",
       " 'us-gaap_OtherNoncashIncomeExpense',\n",
       " 'us-gaap_IncreaseDecreaseInAccountsReceivable',\n",
       " 'us-gaap_IncreaseDecreaseInPrepaidDeferredExpenseAndOtherAssets',\n",
       " 'uber_IncreaseDecreaseFundsHeldByInsurers',\n",
       " 'uber_IncreaseDecreaseInOperatingLeaseRightOfUseAssets',\n",
       " 'us-gaap_IncreaseDecreaseInAccountsPayable',\n",
       " 'uber_IncreaseDecreaseInInsuranceReserve',\n",
       " 'us-gaap_IncreaseDecreaseInAccruedLiabilitiesAndOtherOperatingLiabilities',\n",
       " 'uber_IncreaseDecreaseinOperatingLeaseLiabilities',\n",
       " 'us-gaap_NetCashProvidedByUsedInOperatingActivities',\n",
       " 'us-gaap_PaymentsToAcquirePropertyPlantAndEquipment',\n",
       " 'uber_PaymentstoAcquireNonMarketableInvestments',\n",
       " 'us-gaap_PaymentsToAcquireMarketableSecurities',\n",
       " 'uber_ProceedsFromSaleOfNonMarketableEquitySecurities',\n",
       " 'us-gaap_ProceedsFromSaleAndMaturityOfMarketableSecurities',\n",
       " 'us-gaap_ProceedsFromSaleOfEquityMethodInvestments',\n",
       " 'us-gaap_ProceedsFromDivestitureOfBusinessesNetOfCashDivested',\n",
       " 'us-gaap_PaymentsToAcquireBusinessesNetOfCashAcquired',\n",
       " 'us-gaap_PaymentsToAcquireNotesReceivable',\n",
       " 'us-gaap_PaymentsForProceedsFromOtherInvestingActivities',\n",
       " 'us-gaap_NetCashProvidedByUsedInInvestingActivities',\n",
       " 'us-gaap_ProceedsFromIssuanceOfPreferredStockAndPreferenceStock',\n",
       " 'uber_ProceedsFromIssuanceOfCommonStockEmployeeStockPurchasePlan',\n",
       " 'us-gaap_ProceedsFromIssuanceOfLongTermDebt',\n",
       " 'us-gaap_PaymentsForDerivativeInstrumentFinancingActivities',\n",
       " 'us-gaap_RepaymentsOfLongTermDebt',\n",
       " 'us-gaap_RepaymentsOfNotesPayable',\n",
       " 'us-gaap_FinanceLeasePrincipalPayments',\n",
       " 'us-gaap_ProceedsFromPaymentsForOtherFinancingActivities',\n",
       " 'us-gaap_NetCashProvidedByUsedInFinancingActivities',\n",
       " 'us-gaap_EffectOfExchangeRateOnCashCashEquivalentsRestrictedCashAndRestrictedCashEquivalents',\n",
       " 'us-gaap_CashCashEquivalentsRestrictedCashAndRestrictedCashEquivalentsPeriodIncreaseDecreaseIncludingExchangeRateEffect',\n",
       " 'us-gaap_CashCashEquivalentsRestrictedCashAndRestrictedCashEquivalentsIncludingDisposalGroupAndDiscontinuedOperations',\n",
       " 'uber_CashCashEquivalentsRestrictedCashAndRestrictedCashEquivalentsReclassificationFromToAssetsHeldForSaleDuringPeriod',\n",
       " 'us-gaap_CashCashEquivalentsRestrictedCashAndRestrictedCashEquivalents',\n",
       " 'us-gaap_InterestPaidNet',\n",
       " 'us-gaap_IncomeTaxesPaidNet',\n",
       " 'us-gaap_CapitalLeaseObligationsIncurred',\n",
       " 'us-gaap_RightOfUseAssetObtainedInExchangeForOperatingLeaseLiability',\n",
       " 'us-gaap_StockIssued1',\n",
       " 'uber_OwnershipInterestReceivedInExchangeForDivestiture',\n",
       " 'uber_DebtConversionConvertedInstrumentAmountRelatedToAcquisition',\n",
       " 'us-gaap_AccountingStandardsUpdateExtensibleList',\n",
       " 'uber_AdditionalPaidInCapitalCappedCalls',\n",
       " 'us-gaap_OtherComprehensiveIncomeLossNetOfTax',\n",
       " 'us-gaap_ComprehensiveIncomeNetOfTaxIncludingPortionAttributableToNoncontrollingInterest',\n",
       " 'us-gaap_ComprehensiveIncomeNetOfTaxAttributableToNoncontrollingInterest',\n",
       " 'us-gaap_ComprehensiveIncomeNetOfTax',\n",
       " 'us-gaap_PropertyPlantAndEquipmentAndFinanceLeaseRightOfUseAssetAfterAccumulatedDepreciationAndAmortization',\n",
       " 'us-gaap_DeferredIncomeTaxAssetsNet',\n",
       " 'uber_AccruedLiabilitiesAndOtherLiabilitiesCurrent',\n",
       " 'us-gaap_DepreciationDepletionAndAmortization',\n",
       " 'us-gaap_InterestExpenseNonoperating',\n",
       " 'uber_DepreciationAndAmortizationIncludingAmountFromOtherIncomeExpense',\n",
       " 'us-gaap_AccretionAmortizationOfDiscountsAndPremiumsInvestments',\n",
       " 'us-gaap_PaymentsForRepurchaseOfCommonStock',\n",
       " 'us-gaap_PaymentsForRepurchaseOfRedeemableNoncontrollingInterest',\n",
       " 'us-gaap_RightOfUseAssetObtainedInExchangeForFinanceLeaseLiability']"
      ]
     },
     "execution_count": 204,
     "metadata": {},
     "output_type": "execute_result"
    }
   ],
   "source": [
    "list(df2.index)"
   ]
  },
  {
   "cell_type": "code",
   "execution_count": 219,
   "id": "efeec617-6b5b-40c7-a03e-6153ac4eaecd",
   "metadata": {
    "tags": []
   },
   "outputs": [
    {
     "data": {
      "text/html": [
       "<div>\n",
       "<style scoped>\n",
       "    .dataframe tbody tr th:only-of-type {\n",
       "        vertical-align: middle;\n",
       "    }\n",
       "\n",
       "    .dataframe tbody tr th {\n",
       "        vertical-align: top;\n",
       "    }\n",
       "\n",
       "    .dataframe thead th {\n",
       "        text-align: right;\n",
       "    }\n",
       "</style>\n",
       "<table border=\"1\" class=\"dataframe\">\n",
       "  <thead>\n",
       "    <tr style=\"text-align: right;\">\n",
       "      <th></th>\n",
       "      <th>2023</th>\n",
       "      <th>2024</th>\n",
       "    </tr>\n",
       "  </thead>\n",
       "  <tbody>\n",
       "    <tr>\n",
       "      <th>my_name</th>\n",
       "      <td>4680000000</td>\n",
       "      <td>5893000000</td>\n",
       "    </tr>\n",
       "  </tbody>\n",
       "</table>\n",
       "</div>"
      ],
      "text/plain": [
       "               2023        2024\n",
       "my_name  4680000000  5893000000"
      ]
     },
     "execution_count": 219,
     "metadata": {},
     "output_type": "execute_result"
    }
   ],
   "source": [
    "# df2.loc[\"us-gaap_CashAndCashEquivalentsAtCarryingValue\"]\n",
    "\n",
    "new_df = df2.loc[['us-gaap_CashAndCashEquivalentsAtCarryingValue']].copy()  # Use [['row1']] to keep it as a DataFrame\n",
    "new_df.index = ['my_name']  # Change the index\n",
    "\n",
    "new_df"
   ]
  },
  {
   "cell_type": "code",
   "execution_count": 221,
   "id": "67967d36-c6b7-4300-a71b-f8dcbc834254",
   "metadata": {
    "tags": []
   },
   "outputs": [
    {
     "data": {
      "text/html": [
       "<div>\n",
       "<style scoped>\n",
       "    .dataframe tbody tr th:only-of-type {\n",
       "        vertical-align: middle;\n",
       "    }\n",
       "\n",
       "    .dataframe tbody tr th {\n",
       "        vertical-align: top;\n",
       "    }\n",
       "\n",
       "    .dataframe thead th {\n",
       "        text-align: right;\n",
       "    }\n",
       "</style>\n",
       "<table border=\"1\" class=\"dataframe\">\n",
       "  <thead>\n",
       "    <tr style=\"text-align: right;\">\n",
       "      <th></th>\n",
       "      <th>2023</th>\n",
       "      <th>2024</th>\n",
       "    </tr>\n",
       "  </thead>\n",
       "  <tbody>\n",
       "    <tr>\n",
       "      <th>my_name</th>\n",
       "      <td>4680000000</td>\n",
       "      <td>5893000000</td>\n",
       "    </tr>\n",
       "    <tr>\n",
       "      <th>my_name_2</th>\n",
       "      <td>11297000000</td>\n",
       "      <td>12245000000</td>\n",
       "    </tr>\n",
       "  </tbody>\n",
       "</table>\n",
       "</div>"
      ],
      "text/plain": [
       "                  2023         2024\n",
       "my_name     4680000000   5893000000\n",
       "my_name_2  11297000000  12245000000"
      ]
     },
     "execution_count": 221,
     "metadata": {},
     "output_type": "execute_result"
    }
   ],
   "source": [
    "new_df2 = df2.loc[['us-gaap_AssetsCurrent']].copy()  # Use [['row1']] to keep it as a DataFrame\n",
    "new_df2.index = ['my_name_2']  # Change the index\n",
    "\n",
    "pd.concat([new_df, new_df2])"
   ]
  },
  {
   "cell_type": "code",
   "execution_count": 222,
   "id": "94887d6f-eead-43ea-b317-a690c2d516aa",
   "metadata": {
    "tags": []
   },
   "outputs": [
    {
     "data": {
      "text/plain": [
       "Index(['my_name_2'], dtype='object')"
      ]
     },
     "execution_count": 222,
     "metadata": {},
     "output_type": "execute_result"
    }
   ],
   "source": [
    "new_df2.index"
   ]
  },
  {
   "cell_type": "code",
   "execution_count": 12,
   "id": "ffc445a5-571f-4edf-ae7a-d6e9786b69ec",
   "metadata": {
    "tags": []
   },
   "outputs": [
    {
     "ename": "NameError",
     "evalue": "name 'new_df2' is not defined",
     "output_type": "error",
     "traceback": [
      "\u001b[0;31m---------------------------------------------------------------------------\u001b[0m",
      "\u001b[0;31mNameError\u001b[0m                                 Traceback (most recent call last)",
      "Cell \u001b[0;32mIn[12], line 1\u001b[0m\n\u001b[0;32m----> 1\u001b[0m \u001b[43mnew_df2\u001b[49m \u001b[38;5;241m-\u001b[39m new_df2\n",
      "\u001b[0;31mNameError\u001b[0m: name 'new_df2' is not defined"
     ]
    }
   ],
   "source": [
    "new_df2 - new_df2"
   ]
  },
  {
   "cell_type": "code",
   "execution_count": 231,
   "id": "7d35ac22-d635-4add-8538-8a0041e8728a",
   "metadata": {
    "tags": []
   },
   "outputs": [
    {
     "data": {
      "text/plain": [
       "2023    6617000000\n",
       "2024    6352000000\n",
       "dtype: int64"
      ]
     },
     "execution_count": 231,
     "metadata": {},
     "output_type": "execute_result"
    }
   ],
   "source": [
    "new_df2.loc[\"my_name_2\"].astype(int) - new_df.loc[\"my_name\"].astype(int)"
   ]
  },
  {
   "cell_type": "code",
   "execution_count": 241,
   "id": "55905c38-af79-4e35-b5f8-4d65654bfb76",
   "metadata": {
    "tags": []
   },
   "outputs": [
    {
     "data": {
      "text/html": [
       "<div>\n",
       "<style scoped>\n",
       "    .dataframe tbody tr th:only-of-type {\n",
       "        vertical-align: middle;\n",
       "    }\n",
       "\n",
       "    .dataframe tbody tr th {\n",
       "        vertical-align: top;\n",
       "    }\n",
       "\n",
       "    .dataframe thead th {\n",
       "        text-align: right;\n",
       "    }\n",
       "</style>\n",
       "<table border=\"1\" class=\"dataframe\">\n",
       "  <thead>\n",
       "    <tr style=\"text-align: right;\">\n",
       "      <th></th>\n",
       "      <th>2023</th>\n",
       "      <th>2024</th>\n",
       "    </tr>\n",
       "  </thead>\n",
       "  <tbody>\n",
       "    <tr>\n",
       "      <th>Rev</th>\n",
       "      <td>11297000000</td>\n",
       "      <td>12245000000</td>\n",
       "    </tr>\n",
       "    <tr>\n",
       "      <th>CostOfRev</th>\n",
       "      <td>4680000000</td>\n",
       "      <td>5893000000</td>\n",
       "    </tr>\n",
       "  </tbody>\n",
       "</table>\n",
       "</div>"
      ],
      "text/plain": [
       "                  2023         2024\n",
       "Rev        11297000000  12245000000\n",
       "CostOfRev   4680000000   5893000000"
      ]
     },
     "execution_count": 241,
     "metadata": {},
     "output_type": "execute_result"
    }
   ],
   "source": [
    "pd.concat([new_df2.loc[\"my_name_2\"].astype(int).rename(\"Rev\"), new_df.loc[\"my_name\"].astype(int).rename(\"CostOfRev\")], axis=1).T"
   ]
  },
  {
   "cell_type": "code",
   "execution_count": 236,
   "id": "889a8f79-a48f-4a79-a4e6-a766f1ebef88",
   "metadata": {
    "tags": []
   },
   "outputs": [
    {
     "data": {
      "text/plain": [
       "Index(['2023', '2024'], dtype='object')"
      ]
     },
     "execution_count": 236,
     "metadata": {},
     "output_type": "execute_result"
    }
   ],
   "source": [
    "new_df2.loc[\"my_name_2\"].index"
   ]
  },
  {
   "cell_type": "code",
   "execution_count": null,
   "id": "19a0e157-c3b0-4804-96ec-e6d1a48469ba",
   "metadata": {},
   "outputs": [],
   "source": [
    "FIN_ITEM_MAP = {\n",
    "    (): \"revenue\",  # Revenues, RevenueFromContractWithCustomerExcludingAssessedTax\n",
    "    (): \"cost_of_revenue\",  # CostOfRevenue, gaap_CostOfGoodsAndServiceExcludingDepreciationDepletionAndAmortization\n",
    "    (): \"operating_expense\",  # us-gaap_Revenues - us-gaap_CostOfRevenues - us-gaap_OperatingIncomeLoss\n",
    "    (): \"depreciation\",  # gaap_DepreciationDepletionAndAmortization\n",
    "    (): \"provision_for_taxes\",  # IncomeTaxExpenseBenefit\n",
    "    (): \"capital_expenditure\",  # gaap_PaymentsToAcquirePropertyPlantAndEquipment\n",
    "    (): \"current_assets\",  # us-gaap_AssetsCurrent\n",
    "    (): \"current_liabilities\",  # s-gaap_LiabilitiesCurrent\n",
    "}"
   ]
  },
  {
   "cell_type": "code",
   "execution_count": null,
   "id": "c72f1a18-ea92-466b-9e17-7764fb2043a8",
   "metadata": {},
   "outputs": [],
   "source": [
    "from abc import ABC, abstractmethod\n",
    "from collections import Sequence\n",
    "\n",
    "\n",
    "# OneToOneParser(\"revenue\") - OneTwoOneParser(\"costofrevenue\")\n",
    "#\n",
    "#\n",
    "\n",
    "\n",
    "class FinancialsParser(ABC):\n",
    "    @abstractmethod\n",
    "    def parse(self, df: pd.DataFrame) -> pd.DataFrame:\n",
    "        ...\n",
    "\n",
    "\n",
    "class FinItemNotFound(Exception):\n",
    "    pass\n",
    "\n",
    "\n",
    "class OneToOneParser:\n",
    "    def __init__(self, src: str, target: str) -> None:\n",
    "        self._src = src\n",
    "        self._target = target\n",
    "    \n",
    "    def parse(self, df: pd.DataFrame) -> pd.DataFrame:\n",
    "        if self._src not in df.index:\n",
    "            raise FinItemNotFound(f\"Not found: {self._src}\")\n",
    "        return df.loc[[self._src]].copy().rename(index={self._src: self._target}).astype(int)  # FIXME: duplicate\n",
    "\n",
    "    \n",
    "class PriorityChainParser:\n",
    "    def __init__(self, src_chain: Sequence[str], target: str) -> None:\n",
    "        self._src_chain = src_chain\n",
    "    \n",
    "    def parse(self, df: pd.DataFrame) -> pd.DataFrame:\n",
    "        for src in self.self._src_chain:\n",
    "            if src in df.index:\n",
    "                return df.loc[[src]].copy().rename(index={src: self._target}).astype(int)  # FIXME: duplicate\n",
    "        raise FinItemNotFound(f\"Not found any of: {self._src_chain}\")\n",
    "        \n",
    "        \n",
    "class CompoundParser:\n",
    "    def __init__(self, parsers: dict[str, Sequence[FinancialsParser]]) -> None:\n",
    "        self._parsers = parsers\n",
    "        \n",
    "    def parse(df: pd.DataFrame) -> pd.DataFrame:\n",
    "        return pd.concat(parser.parse(df) for parser in self._parsers)"
   ]
  }
 ],
 "metadata": {
  "kernelspec": {
   "display_name": "stock-val-venv",
   "language": "python",
   "name": "stock-val-venv"
  },
  "language_info": {
   "codemirror_mode": {
    "name": "ipython",
    "version": 3
   },
   "file_extension": ".py",
   "mimetype": "text/x-python",
   "name": "python",
   "nbconvert_exporter": "python",
   "pygments_lexer": "ipython3",
   "version": "3.13.2"
  }
 },
 "nbformat": 4,
 "nbformat_minor": 5
}
